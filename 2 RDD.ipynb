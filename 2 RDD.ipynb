{
 "cells": [
  {
   "cell_type": "code",
   "execution_count": 1,
   "id": "7b18d6a6-9408-4732-971c-f17fc541eb85",
   "metadata": {},
   "outputs": [],
   "source": [
    "from pyspark.sql import SparkSession\n",
    "#SparkSession\n",
    "spark=SparkSession.builder.appName('practice session').getOrCreate()"
   ]
  },
  {
   "cell_type": "markdown",
   "id": "af3db728-c5dc-471d-bc4d-8e79dc9ce5af",
   "metadata": {},
   "source": [
    "## RDD using parallelize() for Random/adhoc data"
   ]
  },
  {
   "cell_type": "code",
   "execution_count": 2,
   "id": "68a4445e-97ef-4ed3-ae39-e190e07b0e93",
   "metadata": {},
   "outputs": [],
   "source": [
    "rdd1=spark.sparkContext.parallelize([('Ross',13),('shafi',21),('Ravi',19),('Ravi',34),('shaik',123),('tommy',89),('jack',35),('splash',1.9)])"
   ]
  },
  {
   "cell_type": "code",
   "execution_count": 3,
   "id": "32d75f24-61b8-46e9-9466-af7ea83cc4ce",
   "metadata": {},
   "outputs": [
    {
     "data": {
      "text/plain": [
       "[('Ross', 13),\n",
       " ('shafi', 21),\n",
       " ('Ravi', 19),\n",
       " ('Ravi', 34),\n",
       " ('shaik', 123),\n",
       " ('tommy', 89)]"
      ]
     },
     "execution_count": 3,
     "metadata": {},
     "output_type": "execute_result"
    }
   ],
   "source": [
    "rdd1.take(6)"
   ]
  },
  {
   "cell_type": "markdown",
   "id": "33717fb6-ca02-4e1f-b911-e7c02bdc074c",
   "metadata": {},
   "source": [
    "## RDD by importing Text file"
   ]
  },
  {
   "cell_type": "code",
   "execution_count": 4,
   "id": "bddf7737-16ca-4fe0-833f-7da9a7cfe68b",
   "metadata": {},
   "outputs": [],
   "source": [
    "users_rdd=spark.sparkContext.textFile('S:/DataSets/text/users.txt')"
   ]
  },
  {
   "cell_type": "code",
   "execution_count": 5,
   "id": "b7e6acc2-2af9-45f7-842f-94e3edf0299d",
   "metadata": {
    "scrolled": true,
    "tags": []
   },
   "outputs": [
    {
     "data": {
      "text/plain": [
       "7"
      ]
     },
     "execution_count": 5,
     "metadata": {},
     "output_type": "execute_result"
    }
   ],
   "source": [
    "users_rdd.count()"
   ]
  },
  {
   "cell_type": "code",
   "execution_count": 6,
   "id": "5de663d6-5ae4-4a3c-9b66-bf9432ba8664",
   "metadata": {},
   "outputs": [
    {
     "data": {
      "text/plain": [
       "['1,BarackObama,Barack Obama',\n",
       " '2,ladygaga,Goddess of Love',\n",
       " '3,jeresig,John Resig',\n",
       " '4,justinbieber,Justin Bieber',\n",
       " '6,matei_zaharia,Matei Zaharia',\n",
       " '7,odersky,Martin Odersky',\n",
       " '8,anonsys']"
      ]
     },
     "execution_count": 6,
     "metadata": {},
     "output_type": "execute_result"
    }
   ],
   "source": [
    "users_rdd.collect()"
   ]
  },
  {
   "cell_type": "code",
   "execution_count": 7,
   "id": "e6bf3e2f-bb3a-43a8-9051-ef3466b7db79",
   "metadata": {},
   "outputs": [],
   "source": [
    "#Reads entire file into a RDD as single record.\n",
    "users2_rdd = spark.sparkContext.wholeTextFiles(\"S:/DataSets/text/users.txt\")\n"
   ]
  },
  {
   "cell_type": "code",
   "execution_count": 8,
   "id": "ed57a7a6-7adf-4994-bf0f-7d8e50fcdd69",
   "metadata": {},
   "outputs": [
    {
     "data": {
      "text/plain": [
       "1"
      ]
     },
     "execution_count": 8,
     "metadata": {},
     "output_type": "execute_result"
    }
   ],
   "source": [
    "users2_rdd.count()"
   ]
  },
  {
   "cell_type": "code",
   "execution_count": 9,
   "id": "f1e003c3-2632-4b4d-a3dd-d4260c8996c1",
   "metadata": {},
   "outputs": [
    {
     "data": {
      "text/plain": [
       "[('file:/S:/DataSets/text/users.txt',\n",
       "  '1,BarackObama,Barack Obama\\n2,ladygaga,Goddess of Love\\n3,jeresig,John Resig\\n4,justinbieber,Justin Bieber\\n6,matei_zaharia,Matei Zaharia\\n7,odersky,Martin Odersky\\n8,anonsys\\n')]"
      ]
     },
     "execution_count": 9,
     "metadata": {},
     "output_type": "execute_result"
    }
   ],
   "source": [
    "users2_rdd.collect()"
   ]
  },
  {
   "cell_type": "markdown",
   "id": "02b32035-7085-468d-acc3-1118330f2328",
   "metadata": {},
   "source": [
    "## RDD using Random/adhoc data"
   ]
  },
  {
   "cell_type": "code",
   "execution_count": 10,
   "id": "f2fc9c23-8bba-4105-ac89-316cf7fcac27",
   "metadata": {},
   "outputs": [],
   "source": [
    "rdd3=spark.sparkContext.textFile(\"S:\\\\Datasets\\\\text\\\\word_list_moby.txt\",minPartitions=4).map(lambda e: e.split('\\t'))"
   ]
  },
  {
   "cell_type": "code",
   "execution_count": 11,
   "id": "6a94fd99-8a9f-4327-aaec-b2439437b0f1",
   "metadata": {},
   "outputs": [
    {
     "data": {
      "text/plain": [
       "413"
      ]
     },
     "execution_count": 11,
     "metadata": {},
     "output_type": "execute_result"
    }
   ],
   "source": [
    "rdd3.count()"
   ]
  },
  {
   "cell_type": "code",
   "execution_count": null,
   "id": "5f69688b-b91d-4aa7-986d-1870ee278b92",
   "metadata": {},
   "outputs": [],
   "source": []
  },
  {
   "cell_type": "markdown",
   "id": "91e68dd6-5eff-4553-b995-272bfc7cca01",
   "metadata": {
    "tags": []
   },
   "source": [
    "## topic\n"
   ]
  },
  {
   "cell_type": "code",
   "execution_count": null,
   "id": "e39812fd-4214-4658-8973-0bc93119ab51",
   "metadata": {},
   "outputs": [],
   "source": []
  }
 ],
 "metadata": {
  "kernelspec": {
   "display_name": "Python 3 (ipykernel)",
   "language": "python",
   "name": "python3"
  },
  "language_info": {
   "codemirror_mode": {
    "name": "ipython",
    "version": 3
   },
   "file_extension": ".py",
   "mimetype": "text/x-python",
   "name": "python",
   "nbconvert_exporter": "python",
   "pygments_lexer": "ipython3",
   "version": "3.10.7"
  }
 },
 "nbformat": 4,
 "nbformat_minor": 5
}
