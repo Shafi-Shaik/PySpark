{
 "cells": [
  {
   "cell_type": "code",
   "execution_count": 1,
   "id": "7b18d6a6-9408-4732-971c-f17fc541eb85",
   "metadata": {},
   "outputs": [],
   "source": [
    "from pyspark.sql import SparkSession"
   ]
  },
  {
   "cell_type": "code",
   "execution_count": 3,
   "id": "68a4445e-97ef-4ed3-ae39-e190e07b0e93",
   "metadata": {},
   "outputs": [
    {
     "ename": "NameError",
     "evalue": "name 'spark' is not defined",
     "output_type": "error",
     "traceback": [
      "\u001b[1;31m---------------------------------------------------------------------------\u001b[0m",
      "\u001b[1;31mNameError\u001b[0m                                 Traceback (most recent call last)",
      "Cell \u001b[1;32mIn[3], line 1\u001b[0m\n\u001b[1;32m----> 1\u001b[0m rdd1\u001b[38;5;241m=\u001b[39m\u001b[43mspark\u001b[49m\u001b[38;5;241m.\u001b[39mparallelize([(\u001b[38;5;124m'\u001b[39m\u001b[38;5;124mRoss\u001b[39m\u001b[38;5;124m'\u001b[39m,\u001b[38;5;241m13\u001b[39m),(\u001b[38;5;124m'\u001b[39m\u001b[38;5;124mshafi\u001b[39m\u001b[38;5;124m'\u001b[39m,\u001b[38;5;241m21\u001b[39m),(\u001b[38;5;124m'\u001b[39m\u001b[38;5;124mRavi\u001b[39m\u001b[38;5;124m'\u001b[39m,\u001b[38;5;241m19\u001b[39m),(\u001b[38;5;124m'\u001b[39m\u001b[38;5;124mRavi\u001b[39m\u001b[38;5;124m'\u001b[39m,\u001b[38;5;241m34\u001b[39m),(\u001b[38;5;124m'\u001b[39m\u001b[38;5;124mshaik\u001b[39m\u001b[38;5;124m'\u001b[39m,\u001b[38;5;241m123\u001b[39m),(\u001b[38;5;124m'\u001b[39m\u001b[38;5;124mtommy\u001b[39m\u001b[38;5;124m'\u001b[39m,\u001b[38;5;241m89\u001b[39m),(\u001b[38;5;124m'\u001b[39m\u001b[38;5;124mjack\u001b[39m\u001b[38;5;124m'\u001b[39m,\u001b[38;5;241m35\u001b[39m),(\u001b[38;5;124m'\u001b[39m\u001b[38;5;124msplash\u001b[39m\u001b[38;5;124m'\u001b[39m,\u001b[38;5;241m1.9\u001b[39m)])\n",
      "\u001b[1;31mNameError\u001b[0m: name 'spark' is not defined"
     ]
    }
   ],
   "source": [
    "rdd1=spark.parallelize([('Ross',13),('shafi',21),('Ravi',19),('Ravi',34),('shaik',123),('tommy',89),('jack',35),('splash',1.9)])"
   ]
  },
  {
   "cell_type": "code",
   "execution_count": 7,
   "id": "32d75f24-61b8-46e9-9466-af7ea83cc4ce",
   "metadata": {},
   "outputs": [
    {
     "ename": "NameError",
     "evalue": "name 'rdd1' is not defined",
     "output_type": "error",
     "traceback": [
      "\u001b[1;31m---------------------------------------------------------------------------\u001b[0m",
      "\u001b[1;31mNameError\u001b[0m                                 Traceback (most recent call last)",
      "Cell \u001b[1;32mIn[7], line 1\u001b[0m\n\u001b[1;32m----> 1\u001b[0m \u001b[43mrdd1\u001b[49m\u001b[38;5;241m.\u001b[39mtake(\u001b[38;5;241m6\u001b[39m)\n",
      "\u001b[1;31mNameError\u001b[0m: name 'rdd1' is not defined"
     ]
    }
   ],
   "source": [
    "rdd1.take(6)"
   ]
  },
  {
   "cell_type": "code",
   "execution_count": null,
   "id": "4dd3aec6-9b38-49ed-a94e-41ec9cebed0b",
   "metadata": {},
   "outputs": [],
   "source": []
  },
  {
   "cell_type": "code",
   "execution_count": null,
   "id": "bddf7737-16ca-4fe0-833f-7da9a7cfe68b",
   "metadata": {},
   "outputs": [],
   "source": [
    "rdd2=sc.textFile(txt filename)"
   ]
  },
  {
   "cell_type": "code",
   "execution_count": null,
   "id": "f2fc9c23-8bba-4105-ac89-316cf7fcac27",
   "metadata": {},
   "outputs": [],
   "source": [
    "rdd3=sc.textFile(csv filename,minPartitions=4).map(lambda e: e.split('\\t'))"
   ]
  },
  {
   "cell_type": "code",
   "execution_count": null,
   "id": "77c7b010-f4e8-4737-8cf0-bb96dcebaa0c",
   "metadata": {},
   "outputs": [],
   "source": [
    "rdd3.getnumPartitions()"
   ]
  },
  {
   "cell_type": "code",
   "execution_count": null,
   "id": "6a94fd99-8a9f-4327-aaec-b2439437b0f1",
   "metadata": {},
   "outputs": [],
   "source": [
    "rdd3.count()"
   ]
  },
  {
   "cell_type": "code",
   "execution_count": null,
   "id": "5f69688b-b91d-4aa7-986d-1870ee278b92",
   "metadata": {},
   "outputs": [],
   "source": []
  },
  {
   "cell_type": "code",
   "execution_count": null,
   "id": "e39812fd-4214-4658-8973-0bc93119ab51",
   "metadata": {},
   "outputs": [],
   "source": []
  }
 ],
 "metadata": {
  "kernelspec": {
   "display_name": "Python 3 (ipykernel)",
   "language": "python",
   "name": "python3"
  },
  "language_info": {
   "codemirror_mode": {
    "name": "ipython",
    "version": 3
   },
   "file_extension": ".py",
   "mimetype": "text/x-python",
   "name": "python",
   "nbconvert_exporter": "python",
   "pygments_lexer": "ipython3",
   "version": "3.10.7"
  }
 },
 "nbformat": 4,
 "nbformat_minor": 5
}
