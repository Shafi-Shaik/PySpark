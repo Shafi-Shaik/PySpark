{
 "cells": [
  {
   "cell_type": "code",
   "execution_count": 1,
   "id": "ed1c6802-e47f-4932-baed-71e2273396c7",
   "metadata": {},
   "outputs": [
    {
     "data": {
      "text/html": [
       "\n",
       "            <div>\n",
       "                <p><b>SparkSession - in-memory</b></p>\n",
       "                \n",
       "        <div>\n",
       "            <p><b>SparkContext</b></p>\n",
       "\n",
       "            <p><a href=\"http://ShafiVivobook.mshome.net:4042\">Spark UI</a></p>\n",
       "\n",
       "            <dl>\n",
       "              <dt>Version</dt>\n",
       "                <dd><code>v3.3.1</code></dd>\n",
       "              <dt>Master</dt>\n",
       "                <dd><code>local[*]</code></dd>\n",
       "              <dt>AppName</dt>\n",
       "                <dd><code>practice session 3</code></dd>\n",
       "            </dl>\n",
       "        </div>\n",
       "        \n",
       "            </div>\n",
       "        "
      ],
      "text/plain": [
       "<pyspark.sql.session.SparkSession at 0x2052b36e920>"
      ]
     },
     "execution_count": 1,
     "metadata": {},
     "output_type": "execute_result"
    }
   ],
   "source": [
    "import pyspark\n",
    "\n",
    "from pyspark.sql import SparkSession\n",
    "spark=SparkSession.builder.appName('practice session 3').getOrCreate()\n",
    "sc=spark.sparkContext\n",
    "spark"
   ]
  },
  {
   "cell_type": "code",
   "execution_count": 2,
   "id": "0a68d964-9085-46d8-9a25-95d6939c32a6",
   "metadata": {},
   "outputs": [],
   "source": [
    "data=range(1,15)\n",
    "rdd1 = sc.parallelize(data)"
   ]
  },
  {
   "cell_type": "markdown",
   "id": "aefdf065-8dab-47ef-be34-1376de9312ab",
   "metadata": {
    "tags": []
   },
   "source": [
    "### collect()"
   ]
  },
  {
   "cell_type": "code",
   "execution_count": 3,
   "id": "1612b8df-5775-4dd7-a2b3-7336c4875601",
   "metadata": {},
   "outputs": [
    {
     "data": {
      "text/plain": [
       "[1, 2, 3, 4, 5, 6, 7, 8, 9, 10, 11, 12, 13, 14]"
      ]
     },
     "execution_count": 3,
     "metadata": {},
     "output_type": "execute_result"
    }
   ],
   "source": [
    "rdd1.collect()"
   ]
  },
  {
   "cell_type": "markdown",
   "id": "27df733c-cd46-468a-bfc2-bc6fe1fc2ba7",
   "metadata": {
    "tags": []
   },
   "source": [
    "### take(n) , top(n)"
   ]
  },
  {
   "cell_type": "code",
   "execution_count": 4,
   "id": "caa16f8a-0ca1-40e5-a4eb-aef97a436c6a",
   "metadata": {},
   "outputs": [
    {
     "data": {
      "text/plain": [
       "[1, 2, 3, 4]"
      ]
     },
     "execution_count": 4,
     "metadata": {},
     "output_type": "execute_result"
    }
   ],
   "source": [
    "rdd1.take(4)"
   ]
  },
  {
   "cell_type": "code",
   "execution_count": 5,
   "id": "10d3ba3f-74e7-4a00-b05a-cfa32e13b840",
   "metadata": {},
   "outputs": [
    {
     "data": {
      "text/plain": [
       "[32, 21, 16]"
      ]
     },
     "execution_count": 5,
     "metadata": {},
     "output_type": "execute_result"
    }
   ],
   "source": [
    "rdd1=sc.parallelize([16, 21, 32, 4, 5, 6, 7, 8, 9, 10, 11, 12, 13, 14])\n",
    "rdd1.top(3)"
   ]
  },
  {
   "cell_type": "markdown",
   "id": "a6adcfa4-ebb7-42ae-9b30-75f6076d4362",
   "metadata": {
    "tags": []
   },
   "source": [
    "### count(), min(), max(),sum(),mean(),stdev()"
   ]
  },
  {
   "cell_type": "code",
   "execution_count": 6,
   "id": "b29862ee-d2ea-428a-bc1c-f131b55c6c00",
   "metadata": {},
   "outputs": [
    {
     "data": {
      "text/plain": [
       "14"
      ]
     },
     "execution_count": 6,
     "metadata": {},
     "output_type": "execute_result"
    }
   ],
   "source": [
    "rdd1.count()"
   ]
  },
  {
   "cell_type": "code",
   "execution_count": 7,
   "id": "db22cafe-503c-4622-8f2f-b3b98cf94c09",
   "metadata": {},
   "outputs": [
    {
     "data": {
      "text/plain": [
       "4"
      ]
     },
     "execution_count": 7,
     "metadata": {},
     "output_type": "execute_result"
    }
   ],
   "source": [
    "rdd1.min()"
   ]
  },
  {
   "cell_type": "code",
   "execution_count": 8,
   "id": "d247b3fe-7e9f-4a8e-bcaa-ac2643f5cfe1",
   "metadata": {},
   "outputs": [
    {
     "data": {
      "text/plain": [
       "32"
      ]
     },
     "execution_count": 8,
     "metadata": {},
     "output_type": "execute_result"
    }
   ],
   "source": [
    "rdd1.max()"
   ]
  },
  {
   "cell_type": "code",
   "execution_count": 9,
   "id": "027a3045-4794-4988-8520-f72e628bcf13",
   "metadata": {},
   "outputs": [
    {
     "data": {
      "text/plain": [
       "12.0"
      ]
     },
     "execution_count": 9,
     "metadata": {},
     "output_type": "execute_result"
    }
   ],
   "source": [
    "rdd1.mean()"
   ]
  },
  {
   "cell_type": "code",
   "execution_count": 10,
   "id": "09a2a986-df22-42fb-95f7-7e46b5500b16",
   "metadata": {},
   "outputs": [
    {
     "data": {
      "text/plain": [
       "7.101307726649468"
      ]
     },
     "execution_count": 10,
     "metadata": {},
     "output_type": "execute_result"
    }
   ],
   "source": [
    "rdd1.stdev()"
   ]
  },
  {
   "cell_type": "markdown",
   "id": "7ab17bdd-ed6b-4a16-9e09-e40991026196",
   "metadata": {
    "tags": []
   },
   "source": [
    "### takesample()"
   ]
  },
  {
   "cell_type": "code",
   "execution_count": 11,
   "id": "9b43edec-1550-488a-a99a-a1e2d61cbe4e",
   "metadata": {},
   "outputs": [
    {
     "data": {
      "text/plain": [
       "[21, 9, 12]"
      ]
     },
     "execution_count": 11,
     "metadata": {},
     "output_type": "execute_result"
    }
   ],
   "source": [
    "rdd1.takeSample(num=3,withReplacement=False)"
   ]
  },
  {
   "cell_type": "code",
   "execution_count": 12,
   "id": "1e7b056f-80ce-4e77-9d34-8c6cf8dfdcf7",
   "metadata": {},
   "outputs": [
    {
     "data": {
      "text/plain": [
       "[14, 4, 12]"
      ]
     },
     "execution_count": 12,
     "metadata": {},
     "output_type": "execute_result"
    }
   ],
   "source": [
    "rdd1.takeSample(num=3,withReplacement=True)"
   ]
  },
  {
   "cell_type": "markdown",
   "id": "7f442cd4-e151-4c56-a301-fde949aa5f3f",
   "metadata": {
    "tags": []
   },
   "source": [
    "### reduce"
   ]
  },
  {
   "cell_type": "code",
   "execution_count": 13,
   "id": "8408854f-27e1-4f44-84d3-0335db2b476b",
   "metadata": {},
   "outputs": [
    {
     "data": {
      "text/plain": [
       "[16, 21, 32, 4, 5, 6, 7, 8, 9, 10, 11, 12, 13, 14]"
      ]
     },
     "execution_count": 13,
     "metadata": {},
     "output_type": "execute_result"
    }
   ],
   "source": [
    "l1=[16, 21, 32, 4, 5, 6, 7, 8, 9, 10, 11, 12, 13, 14]\n",
    "rdd1=sc.parallelize(l1)\n",
    "rdd1.collect()"
   ]
  },
  {
   "cell_type": "code",
   "execution_count": 14,
   "id": "a98f3e54-1955-4517-8fd1-571e4cbe6371",
   "metadata": {
    "tags": []
   },
   "outputs": [
    {
     "data": {
      "text/plain": [
       "168"
      ]
     },
     "execution_count": 14,
     "metadata": {},
     "output_type": "execute_result"
    }
   ],
   "source": [
    "rdd1.reduce(lambda y,z: y+z)"
   ]
  },
  {
   "cell_type": "code",
   "execution_count": 15,
   "id": "e1942c29-aca5-4f53-ba9d-bd6b32901f72",
   "metadata": {},
   "outputs": [
    {
     "data": {
      "text/plain": [
       "-94"
      ]
     },
     "execution_count": 15,
     "metadata": {},
     "output_type": "execute_result"
    }
   ],
   "source": [
    "rdd1.reduce(lambda y,z: y-z)"
   ]
  },
  {
   "cell_type": "markdown",
   "id": "67988c56-9166-42c8-9f24-71755de54e0f",
   "metadata": {
    "tags": []
   },
   "source": [
    "### countByKey,  countByValue\n",
    "\n",
    "\n"
   ]
  },
  {
   "cell_type": "code",
   "execution_count": 16,
   "id": "fb28ea58-59df-4eb1-966f-94138821ea89",
   "metadata": {},
   "outputs": [
    {
     "data": {
      "text/plain": [
       "defaultdict(int, {1: 5, 2: 3, 3: 4, 54: 1, 9: 1})"
      ]
     },
     "execution_count": 16,
     "metadata": {},
     "output_type": "execute_result"
    }
   ],
   "source": [
    "l1=[1, 2, 3, 1, 54, 1, 3, 2, 9, 3, 3, 1, 1, 2]\n",
    "rdd1=sc.parallelize(l1)\n",
    "rdd1.countByValue()"
   ]
  },
  {
   "cell_type": "code",
   "execution_count": 17,
   "id": "fda2dbe9-94f2-429f-85c9-7daf9b308488",
   "metadata": {},
   "outputs": [
    {
     "data": {
      "text/plain": [
       "defaultdict(int, {'A': 2, 'B': 1, 'C': 2})"
      ]
     },
     "execution_count": 17,
     "metadata": {},
     "output_type": "execute_result"
    }
   ],
   "source": [
    "d1=[('A',1),('B',2),('C',3),('A',4),('C',5)]\n",
    "rdd1=sc.parallelize(d1)\n",
    "rdd1.countByKey()"
   ]
  },
  {
   "cell_type": "code",
   "execution_count": null,
   "id": "dcaeb667-85bc-451d-b204-06748f35b349",
   "metadata": {},
   "outputs": [],
   "source": []
  },
  {
   "cell_type": "markdown",
   "id": "f4c5d901-9c56-4908-b81e-9a7767bd8050",
   "metadata": {
    "tags": []
   },
   "source": [
    "### fold() -\n",
    "Aggregate the elements of each partition and then the results for all the partitions"
   ]
  },
  {
   "cell_type": "code",
   "execution_count": 18,
   "id": "5bf53c87-8f00-4340-8a4d-286caa9d3f31",
   "metadata": {},
   "outputs": [
    {
     "data": {
      "text/plain": [
       "15"
      ]
     },
     "execution_count": 18,
     "metadata": {},
     "output_type": "execute_result"
    }
   ],
   "source": [
    "from operator import add\n",
    "x=sc.parallelize([1,2,3,4,5])\n",
    "x.fold(0,add)"
   ]
  },
  {
   "cell_type": "code",
   "execution_count": 19,
   "id": "8da54971-d635-4930-9df7-19545d05c6e3",
   "metadata": {},
   "outputs": [
    {
     "data": {
      "text/plain": [
       "28"
      ]
     },
     "execution_count": 19,
     "metadata": {},
     "output_type": "execute_result"
    }
   ],
   "source": [
    "x.fold(1,add)"
   ]
  },
  {
   "cell_type": "code",
   "execution_count": 20,
   "id": "8d04051b-a04d-4bc5-80a5-7c76991a31ba",
   "metadata": {},
   "outputs": [
    {
     "data": {
      "text/plain": [
       "41"
      ]
     },
     "execution_count": 20,
     "metadata": {},
     "output_type": "execute_result"
    }
   ],
   "source": [
    "x.fold(2,add)"
   ]
  },
  {
   "cell_type": "markdown",
   "id": "2c1b29a4-143d-43ba-97b4-3f122b3e2ec9",
   "metadata": {
    "jp-MarkdownHeadingCollapsed": true,
    "tags": []
   },
   "source": [
    "### variance(), sampleVariance()"
   ]
  },
  {
   "cell_type": "code",
   "execution_count": 21,
   "id": "01bcae24-df49-46b5-b6d2-a43c4b1b82dc",
   "metadata": {},
   "outputs": [
    {
     "data": {
      "text/plain": [
       "2.5"
      ]
     },
     "execution_count": 21,
     "metadata": {},
     "output_type": "execute_result"
    }
   ],
   "source": [
    "x=sc.parallelize([1,2,3,4,5])\n",
    "x.variance()\n",
    "x.sampleVariance()"
   ]
  },
  {
   "cell_type": "markdown",
   "id": "37a27ac1-9004-4e13-a8af-094953955f20",
   "metadata": {},
   "source": [
    "### stats()"
   ]
  },
  {
   "cell_type": "code",
   "execution_count": 22,
   "id": "31b2e7c5-a394-4b01-909c-ad59a0c09130",
   "metadata": {},
   "outputs": [
    {
     "data": {
      "text/plain": [
       "(count: 5, mean: 3.0, stdev: 1.4142135623730951, max: 5.0, min: 1.0)"
      ]
     },
     "execution_count": 22,
     "metadata": {},
     "output_type": "execute_result"
    }
   ],
   "source": [
    "x=sc.parallelize([1,2,3,4,5])\n",
    "x.stats()"
   ]
  },
  {
   "cell_type": "code",
   "execution_count": 23,
   "id": "98da090c-6c5a-4fd4-acaa-1bb27c147d1c",
   "metadata": {},
   "outputs": [
    {
     "data": {
      "text/plain": [
       "1.4142135623730951"
      ]
     },
     "execution_count": 23,
     "metadata": {},
     "output_type": "execute_result"
    }
   ],
   "source": [
    "x.stats().stdev()"
   ]
  },
  {
   "cell_type": "markdown",
   "id": "c25623c5-4b5e-4c3f-a2d6-d15774ea4114",
   "metadata": {
    "tags": []
   },
   "source": [
    "### takeOrdered"
   ]
  },
  {
   "cell_type": "code",
   "execution_count": 24,
   "id": "2c924649-b144-45a4-a82e-30c6ddc96df1",
   "metadata": {},
   "outputs": [
    {
     "data": {
      "text/plain": [
       "[1, 2, 3, 4, 5, 6]"
      ]
     },
     "execution_count": 24,
     "metadata": {},
     "output_type": "execute_result"
    }
   ],
   "source": [
    "sc.parallelize([10, 1, 2, 9, 3, 4, 5, 6, 7]).takeOrdered(6)\n"
   ]
  },
  {
   "cell_type": "code",
   "execution_count": 25,
   "id": "6fdef73c-f019-42e6-a0d4-ff7193ad3db5",
   "metadata": {},
   "outputs": [
    {
     "data": {
      "text/plain": [
       "[10, 9, 7, 6, 5, 4]"
      ]
     },
     "execution_count": 25,
     "metadata": {},
     "output_type": "execute_result"
    }
   ],
   "source": [
    "sc.parallelize([10, 1, 2, 9, 3, 4, 5, 6, 7], 2).takeOrdered(6, key=lambda x: -x)"
   ]
  },
  {
   "cell_type": "markdown",
   "id": "68df05ee-612c-428d-9abc-9eef33cb4f5e",
   "metadata": {
    "tags": []
   },
   "source": [
    "### foreach"
   ]
  },
  {
   "cell_type": "code",
   "execution_count": 26,
   "id": "893b3a26-cc6d-4be7-ba8a-62bf379799a0",
   "metadata": {},
   "outputs": [],
   "source": [
    "def f(x): print(x)\n",
    "sc.parallelize([1, 2, 3, 4, 5]).foreach(f)"
   ]
  },
  {
   "cell_type": "code",
   "execution_count": 27,
   "id": "632f703e-c183-4ab7-96ae-1d8a9d541ba8",
   "metadata": {},
   "outputs": [],
   "source": [
    "def f(iterator):\n",
    "    for x in iterator:\n",
    "         print(x)\n",
    "sc.parallelize([1, 2, 3, 4, 5]).foreachPartition(f)"
   ]
  },
  {
   "cell_type": "markdown",
   "id": "38afc086-5f5e-4b76-a72a-d3a340343ca1",
   "metadata": {
    "tags": []
   },
   "source": [
    "### saveAsObjectFile, saveAsTextFile, saveAsPickleFile()"
   ]
  },
  {
   "cell_type": "code",
   "execution_count": 29,
   "id": "3c6ded45-2bcb-423c-aae8-6e8dece1fd25",
   "metadata": {
    "scrolled": true,
    "tags": []
   },
   "outputs": [
    {
     "name": "stdout",
     "output_type": "stream",
     "text": [
      "[('abonsanto@fakemail.com', 'Alberto', 'Bonsanto'), ('mbonsanto@fakemail.com', 'Miguel', 'Bonsanto'), ('stranger@fakemail.com', 'Stranger', 'Weirdo'), ('dbonsanto@fakemail.com', 'Dakota', 'Bonsanto')]\n"
     ]
    }
   ],
   "source": [
    "samples = sc.parallelize([\n",
    "    (\"abonsanto@fakemail.com\", \"Alberto\", \"Bonsanto\"),\n",
    "    (\"mbonsanto@fakemail.com\", \"Miguel\", \"Bonsanto\"),\n",
    "    (\"stranger@fakemail.com\", \"Stranger\", \"Weirdo\"),\n",
    "    (\"dbonsanto@fakemail.com\", \"Dakota\", \"Bonsanto\")\n",
    "])\n",
    "\n",
    "print(samples.collect())\n",
    "\n",
    "#samples.saveAsTextFile(\"file:///S:/Datasets/csv/testRDD.txt\")\n",
    "\n",
    "#read_rdd = sc.textFile(\"file:///S:/Datasets/csv/testRDD.txt\")\n",
    "\n",
    "#read_rdd.collect()"
   ]
  },
  {
   "cell_type": "code",
   "execution_count": null,
   "id": "81a0dc25-1639-43a7-9dfd-5d428f765733",
   "metadata": {},
   "outputs": [],
   "source": []
  },
  {
   "cell_type": "markdown",
   "id": "a0bb5f8d-c609-420a-9b2a-8ab274aea1a3",
   "metadata": {},
   "source": [
    "### For More RDD related operations , Refer the Documentation :   https://spark.apache.org/docs/3.1.3/api/python/reference/pyspark.html#rdd-apis"
   ]
  },
  {
   "cell_type": "code",
   "execution_count": null,
   "id": "70c88a28-f449-4586-a8a5-67ef1af5f836",
   "metadata": {},
   "outputs": [],
   "source": []
  }
 ],
 "metadata": {
  "kernelspec": {
   "display_name": "Python 3 (ipykernel)",
   "language": "python",
   "name": "python3"
  },
  "language_info": {
   "codemirror_mode": {
    "name": "ipython",
    "version": 3
   },
   "file_extension": ".py",
   "mimetype": "text/x-python",
   "name": "python",
   "nbconvert_exporter": "python",
   "pygments_lexer": "ipython3",
   "version": "3.10.7"
  }
 },
 "nbformat": 4,
 "nbformat_minor": 5
}
