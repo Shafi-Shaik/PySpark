{
 "cells": [
  {
   "cell_type": "code",
   "execution_count": 1,
   "id": "0a0fdd73-1fc3-459d-94e2-fa1ffd60005d",
   "metadata": {},
   "outputs": [
    {
     "data": {
      "text/html": [
       "\n",
       "            <div>\n",
       "                <p><b>SparkSession - in-memory</b></p>\n",
       "                \n",
       "        <div>\n",
       "            <p><b>SparkContext</b></p>\n",
       "\n",
       "            <p><a href=\"http://ShafiVivobook.mshome.net:4040\">Spark UI</a></p>\n",
       "\n",
       "            <dl>\n",
       "              <dt>Version</dt>\n",
       "                <dd><code>v3.3.1</code></dd>\n",
       "              <dt>Master</dt>\n",
       "                <dd><code>local[1]</code></dd>\n",
       "              <dt>AppName</dt>\n",
       "                <dd><code>practice session 2</code></dd>\n",
       "            </dl>\n",
       "        </div>\n",
       "        \n",
       "            </div>\n",
       "        "
      ],
      "text/plain": [
       "<pyspark.sql.session.SparkSession at 0x14fbae1ef80>"
      ]
     },
     "execution_count": 1,
     "metadata": {},
     "output_type": "execute_result"
    }
   ],
   "source": [
    "import pyspark\n",
    "\n",
    "from pyspark.sql import SparkSession\n",
    "spark=SparkSession.builder.master('local[1]').appName('practice session 2').getOrCreate()\n",
    "sc=spark.sparkContext\n",
    "spark"
   ]
  },
  {
   "cell_type": "markdown",
   "id": "3a9d6f5c-b279-4770-9503-352c046f5cdb",
   "metadata": {
    "tags": []
   },
   "source": [
    "### data "
   ]
  },
  {
   "cell_type": "code",
   "execution_count": 2,
   "id": "ca9fb0a6-8181-4a70-9665-10b9f906156a",
   "metadata": {},
   "outputs": [],
   "source": [
    "x=sc.parallelize([1,2,3,4,5,6])\n",
    "y=sc.parallelize([[1,2],[3,4],[5,6]])\n",
    "a=sc.parallelize(['a','b','c','d','e','f'])"
   ]
  },
  {
   "cell_type": "markdown",
   "id": "2b0e9b47-ae31-43db-88d1-ecbab23e2e3f",
   "metadata": {
    "tags": []
   },
   "source": [
    "### Map(), flatMap()"
   ]
  },
  {
   "cell_type": "markdown",
   "id": "e3c85528-a7c1-444b-ae85-971904e17d81",
   "metadata": {
    "tags": []
   },
   "source": [
    "#### map(): Applies functions to each value of an object"
   ]
  },
  {
   "cell_type": "code",
   "execution_count": 3,
   "id": "bc6794d8-0381-460e-892d-98d7da37a914",
   "metadata": {},
   "outputs": [
    {
     "data": {
      "text/plain": [
       "[2, 4, 6, 8, 10, 12]"
      ]
     },
     "execution_count": 3,
     "metadata": {},
     "output_type": "execute_result"
    }
   ],
   "source": [
    "z=x.map(lambda c: c*2)\n",
    "z.collect()"
   ]
  },
  {
   "cell_type": "code",
   "execution_count": 4,
   "id": "e91d7fa1-1cef-4f3f-9444-dc6c98562fc6",
   "metadata": {},
   "outputs": [
    {
     "data": {
      "text/plain": [
       "[[2, 4], [6, 8], [10, 12]]"
      ]
     },
     "execution_count": 4,
     "metadata": {},
     "output_type": "execute_result"
    }
   ],
   "source": [
    "z=y.map(lambda c: [c[0]*2,c[1]*2])\n",
    "z.collect()"
   ]
  },
  {
   "cell_type": "markdown",
   "id": "b05fe7dd-fc18-4c4f-9c1c-bc037b4d9fbd",
   "metadata": {
    "tags": []
   },
   "source": [
    "#### flatMap():  Applies functions to each value of an object and then converts nested objects to single objects"
   ]
  },
  {
   "cell_type": "code",
   "execution_count": 5,
   "id": "873f9132-d426-47d6-82cb-92087f75e0a5",
   "metadata": {
    "scrolled": true,
    "tags": []
   },
   "outputs": [
    {
     "data": {
      "text/plain": [
       "[2, 4, 6, 8, 10, 12]"
      ]
     },
     "execution_count": 5,
     "metadata": {},
     "output_type": "execute_result"
    }
   ],
   "source": [
    "z=y.flatMap(lambda c: [c[0]*2,c[1]*2])\n",
    "z.collect()"
   ]
  },
  {
   "cell_type": "code",
   "execution_count": null,
   "id": "11ff5eae-23f9-4ada-926a-7ea61f0969b1",
   "metadata": {},
   "outputs": [],
   "source": []
  },
  {
   "cell_type": "markdown",
   "id": "261f1764-a1eb-4bd0-a3e3-210267f969dc",
   "metadata": {
    "tags": []
   },
   "source": [
    "### filter()"
   ]
  },
  {
   "cell_type": "code",
   "execution_count": 6,
   "id": "d95fe60d-8545-43c0-acca-f06fe763d721",
   "metadata": {},
   "outputs": [
    {
     "data": {
      "text/plain": [
       "[1, 3, 5]"
      ]
     },
     "execution_count": 6,
     "metadata": {},
     "output_type": "execute_result"
    }
   ],
   "source": [
    "z=x.filter(lambda c: c%2==1)\n",
    "z.collect()"
   ]
  },
  {
   "cell_type": "code",
   "execution_count": 7,
   "id": "e3762330-767e-4a1f-b98d-f607ad19f570",
   "metadata": {},
   "outputs": [
    {
     "data": {
      "text/plain": [
       "[2, 4, 6]"
      ]
     },
     "execution_count": 7,
     "metadata": {},
     "output_type": "execute_result"
    }
   ],
   "source": [
    "z=x.filter(lambda c: c%2==0)\n",
    "z.collect()"
   ]
  },
  {
   "cell_type": "code",
   "execution_count": null,
   "id": "1d9a22be-81b7-4cf0-bf6b-657f4e60e34e",
   "metadata": {},
   "outputs": [],
   "source": []
  },
  {
   "cell_type": "code",
   "execution_count": null,
   "id": "e7dedba1-121f-4134-8550-85050cab36c7",
   "metadata": {},
   "outputs": [],
   "source": []
  },
  {
   "cell_type": "markdown",
   "id": "45ad6cc6-8188-4482-8f94-9fd397c39000",
   "metadata": {
    "tags": []
   },
   "source": [
    "### MapPartitions()"
   ]
  },
  {
   "cell_type": "raw",
   "id": "f006840e-7da5-4a42-a674-c76229c7f548",
   "metadata": {},
   "source": [
    "Map and FlatMap does not work across as data is divided across multiple partitions\n",
    "# x.Map(lambda x,y : x+y).collect()\n",
    "# x.flatMap(lambda x,y : x+y).collect()"
   ]
  },
  {
   "cell_type": "code",
   "execution_count": 8,
   "id": "db04a54a-9fb9-421e-952a-92ab3247c4f7",
   "metadata": {},
   "outputs": [
    {
     "name": "stdout",
     "output_type": "stream",
     "text": [
      "[[1, 2, 3], [4, 5, 6]]\n",
      "[[6], [15]]\n"
     ]
    }
   ],
   "source": [
    "x=sc.parallelize([1,2,3,4,5,6],2) # with 2 partitions\n",
    "print(x.glom().collect())\n",
    "\n",
    "def anyFuncName(anything): yield sum(anything)\n",
    "\n",
    "z=x.mapPartitions(anyFuncName)\n",
    "print(z.glom().collect())\n"
   ]
  },
  {
   "cell_type": "code",
   "execution_count": 9,
   "id": "bf324f47-2e60-4d18-9379-7c2a42510d2e",
   "metadata": {
    "scrolled": true,
    "tags": []
   },
   "outputs": [
    {
     "name": "stdout",
     "output_type": "stream",
     "text": [
      "[[1, 2], [3, 4], [5, 6]]\n",
      "[[3], [7], [11]]\n"
     ]
    }
   ],
   "source": [
    "y=sc.parallelize([1,2,3,4,5,6],3) # with 3 partitions\n",
    "print(y.glom().collect())\n",
    "z=y.mapPartitions(anyFuncName)\n",
    "print(z.glom().collect())\n"
   ]
  },
  {
   "cell_type": "markdown",
   "id": "b62742d6-a32b-4b4c-a40e-ecc111281b35",
   "metadata": {
    "tags": []
   },
   "source": [
    " ### MapPartitionsWithIndex()"
   ]
  },
  {
   "cell_type": "code",
   "execution_count": 10,
   "id": "7d8f1ba6-ebe6-44b2-974f-d4c4426c63d1",
   "metadata": {
    "scrolled": true,
    "tags": []
   },
   "outputs": [
    {
     "name": "stdout",
     "output_type": "stream",
     "text": [
      "[[1, 2, 3], [4, 5, 6]]\n",
      "[[(0, 6)], [(1, 15)]]\n"
     ]
    }
   ],
   "source": [
    "x=sc.parallelize([1,2,3,4,5,6],2) # with 2 partitions\n",
    "print(x.glom().collect())\n",
    "\n",
    "def func1(indx,anything): yield (indx,sum(anything))\n",
    "\n",
    "z=x.mapPartitionsWithIndex(func1)\n",
    "print(z.glom().collect())\n"
   ]
  },
  {
   "cell_type": "markdown",
   "id": "174bad60-6ea7-4078-b591-366f3ab8b761",
   "metadata": {
    "tags": []
   },
   "source": [
    "### sample()"
   ]
  },
  {
   "cell_type": "code",
   "execution_count": 11,
   "id": "4714bb8a-c0dd-4e4a-bb4c-e45ef1b786fa",
   "metadata": {},
   "outputs": [
    {
     "data": {
      "text/plain": [
       "[2, 3, 6, 7]"
      ]
     },
     "execution_count": 11,
     "metadata": {},
     "output_type": "execute_result"
    }
   ],
   "source": [
    "x=sc.parallelize([1,2,3,4,5,6,7,8,9])\n",
    "x.sample(withReplacement=False, fraction=0.3).collect()"
   ]
  },
  {
   "cell_type": "code",
   "execution_count": 12,
   "id": "363847a8-bb67-4437-ae4c-d83686de2372",
   "metadata": {},
   "outputs": [
    {
     "data": {
      "text/plain": [
       "[1, 2, 3, 4, 6, 7, 8]"
      ]
     },
     "execution_count": 12,
     "metadata": {},
     "output_type": "execute_result"
    }
   ],
   "source": [
    "x.sample(withReplacement=False, fraction=0.7).collect()"
   ]
  },
  {
   "cell_type": "markdown",
   "id": "1d913035-18fe-4cdf-b4b7-a2676e88a57e",
   "metadata": {},
   "source": [
    "### union(), intersection(), distinct()"
   ]
  },
  {
   "cell_type": "code",
   "execution_count": 13,
   "id": "d27abd47-e040-4f29-b448-8f281b00c495",
   "metadata": {},
   "outputs": [],
   "source": [
    "x=sc.parallelize([1,2,3,4,1,3])\n",
    "y=sc.parallelize([1,2,1,5,6,7])"
   ]
  },
  {
   "cell_type": "code",
   "execution_count": 14,
   "id": "6c468db1-d789-4e41-b358-fa770e2b4730",
   "metadata": {},
   "outputs": [
    {
     "data": {
      "text/plain": [
       "[1, 2, 3, 4, 1, 3, 1, 2, 1, 5, 6, 7]"
      ]
     },
     "execution_count": 14,
     "metadata": {},
     "output_type": "execute_result"
    }
   ],
   "source": [
    "x.union(y).collect()"
   ]
  },
  {
   "cell_type": "code",
   "execution_count": 15,
   "id": "1195f191-b7d5-49b7-8133-a3ff8e03d75f",
   "metadata": {},
   "outputs": [
    {
     "data": {
      "text/plain": [
       "[2, 1]"
      ]
     },
     "execution_count": 15,
     "metadata": {},
     "output_type": "execute_result"
    }
   ],
   "source": [
    "x.intersection(y).collect()"
   ]
  },
  {
   "cell_type": "code",
   "execution_count": 16,
   "id": "e20a618c-7447-4398-ae9e-cc6a8a8ea145",
   "metadata": {},
   "outputs": [
    {
     "name": "stdout",
     "output_type": "stream",
     "text": [
      "[1, 2, 3, 4]\n",
      "['a', 'b', 'A', 'B']\n"
     ]
    }
   ],
   "source": [
    "x=sc.parallelize([1,2,3,1,2,1,2,1,3,4,2,3,4,2,4,1,3])\n",
    "a=sc.parallelize(['a','b','A','B','b','a','a','b','b'])\n",
    "\n",
    "\n",
    "print(x.distinct().collect())\n",
    "print(a.distinct().collect())"
   ]
  },
  {
   "cell_type": "markdown",
   "id": "b66bacc2-f528-4f11-bb2e-d8d35cc393a1",
   "metadata": {},
   "source": [
    "### groupByKey()"
   ]
  },
  {
   "cell_type": "code",
   "execution_count": 17,
   "id": "072dbb18-d97b-439d-8a90-c856448913fa",
   "metadata": {},
   "outputs": [
    {
     "data": {
      "text/plain": [
       "[('a', 3),\n",
       " ('b', 3),\n",
       " ('c', 1),\n",
       " ('b', 8),\n",
       " ('b', 41),\n",
       " ('a', 32),\n",
       " ('a', 12),\n",
       " ('b', 4),\n",
       " ('b', 5)]"
      ]
     },
     "execution_count": 17,
     "metadata": {},
     "output_type": "execute_result"
    }
   ],
   "source": [
    "a=sc.parallelize([('a',3),('b',3),('c',1),('b',8),('b',41),('a',32),('a',12),('b',4),('b',5)])\n",
    "a.collect()"
   ]
  },
  {
   "cell_type": "code",
   "execution_count": 18,
   "id": "ecd32a69-db82-426e-b410-2397c8c69cda",
   "metadata": {
    "scrolled": true,
    "tags": []
   },
   "outputs": [
    {
     "data": {
      "text/plain": [
       "[('a', [3, 32, 12]), ('b', [3, 8, 41, 4, 5]), ('c', [1])]"
      ]
     },
     "execution_count": 18,
     "metadata": {},
     "output_type": "execute_result"
    }
   ],
   "source": [
    "b=a.groupByKey()\n",
    "b.mapValues(list).collect()\n"
   ]
  },
  {
   "cell_type": "code",
   "execution_count": null,
   "id": "7abb16df-8ba7-4c92-a2a5-2c27da40b3a7",
   "metadata": {},
   "outputs": [],
   "source": []
  },
  {
   "cell_type": "code",
   "execution_count": null,
   "id": "08b81fbc-49d3-4294-a2e8-8411c475248f",
   "metadata": {},
   "outputs": [],
   "source": []
  },
  {
   "cell_type": "code",
   "execution_count": null,
   "id": "141910ff-fe51-4906-8b8d-cb1d0123c60d",
   "metadata": {},
   "outputs": [],
   "source": []
  },
  {
   "cell_type": "code",
   "execution_count": null,
   "id": "67b66b13-01c0-4882-8efb-e043fd86b5bb",
   "metadata": {},
   "outputs": [],
   "source": []
  },
  {
   "cell_type": "code",
   "execution_count": null,
   "id": "61832a94-cfb9-4d55-b820-dc5d377edb56",
   "metadata": {},
   "outputs": [],
   "source": []
  },
  {
   "cell_type": "code",
   "execution_count": null,
   "id": "98faed53-dc79-4b15-821b-5a24bda3f95c",
   "metadata": {},
   "outputs": [],
   "source": []
  },
  {
   "cell_type": "code",
   "execution_count": null,
   "id": "d772331d-7f3f-4583-882c-c22fd69480b5",
   "metadata": {},
   "outputs": [],
   "source": []
  }
 ],
 "metadata": {
  "kernelspec": {
   "display_name": "Python 3 (ipykernel)",
   "language": "python",
   "name": "python3"
  },
  "language_info": {
   "codemirror_mode": {
    "name": "ipython",
    "version": 3
   },
   "file_extension": ".py",
   "mimetype": "text/x-python",
   "name": "python",
   "nbconvert_exporter": "python",
   "pygments_lexer": "ipython3",
   "version": "3.10.7"
  }
 },
 "nbformat": 4,
 "nbformat_minor": 5
}
