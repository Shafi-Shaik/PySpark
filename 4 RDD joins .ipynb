{
 "cells": [
  {
   "cell_type": "code",
   "execution_count": 1,
   "id": "86b96867-42e2-41e1-9ae4-8c167d8a4276",
   "metadata": {},
   "outputs": [
    {
     "data": {
      "text/html": [
       "\n",
       "            <div>\n",
       "                <p><b>SparkSession - in-memory</b></p>\n",
       "                \n",
       "        <div>\n",
       "            <p><b>SparkContext</b></p>\n",
       "\n",
       "            <p><a href=\"http://ShafiVivobook.mshome.net:4040\">Spark UI</a></p>\n",
       "\n",
       "            <dl>\n",
       "              <dt>Version</dt>\n",
       "                <dd><code>v3.3.1</code></dd>\n",
       "              <dt>Master</dt>\n",
       "                <dd><code>local[*]</code></dd>\n",
       "              <dt>AppName</dt>\n",
       "                <dd><code>practice session 3</code></dd>\n",
       "            </dl>\n",
       "        </div>\n",
       "        \n",
       "            </div>\n",
       "        "
      ],
      "text/plain": [
       "<pyspark.sql.session.SparkSession at 0x2873aeceec0>"
      ]
     },
     "execution_count": 1,
     "metadata": {},
     "output_type": "execute_result"
    }
   ],
   "source": [
    "import pyspark\n",
    "\n",
    "from pyspark.sql import SparkSession\n",
    "spark=SparkSession.builder.appName('practice session 3').getOrCreate()\n",
    "sc=spark.sparkContext\n",
    "spark"
   ]
  },
  {
   "cell_type": "markdown",
   "id": "280a17be-dc17-45df-9aef-775ce33535e1",
   "metadata": {
    "tags": []
   },
   "source": [
    "## Data"
   ]
  },
  {
   "cell_type": "code",
   "execution_count": 2,
   "id": "977670c6-5c52-4b26-b18d-eb6e74ffc971",
   "metadata": {},
   "outputs": [
    {
     "name": "stdout",
     "output_type": "stream",
     "text": [
      "[('a', 1), ('a', 4), ('b', 2), ('c', 3)]\n",
      "[('a', 11), ('a', 14), ('b', 12), ('d', 13)]\n"
     ]
    }
   ],
   "source": [
    "r1=sc.parallelize([('a',1),('a',4),('b',2),('c',3)])\n",
    "r2=sc.parallelize([('a',11),('a',14),('b',12),('d',13)])\n",
    "\n",
    "print(r1.collect())\n",
    "print(r2.collect())"
   ]
  },
  {
   "cell_type": "markdown",
   "id": "bc75ed33-d676-4612-a0c8-1d5b1352be70",
   "metadata": {},
   "source": [
    "## Inner Join"
   ]
  },
  {
   "cell_type": "code",
   "execution_count": 3,
   "id": "b844757b-403c-47b9-b190-5712aa250dfe",
   "metadata": {},
   "outputs": [
    {
     "data": {
      "text/plain": [
       "[('b', (2, 12)),\n",
       " ('a', (1, 11)),\n",
       " ('a', (1, 14)),\n",
       " ('a', (4, 11)),\n",
       " ('a', (4, 14))]"
      ]
     },
     "execution_count": 3,
     "metadata": {},
     "output_type": "execute_result"
    }
   ],
   "source": [
    "r1.join(r2).collect()"
   ]
  },
  {
   "cell_type": "markdown",
   "id": "cc7c8730-0c54-43a7-b7f3-f4ad63a00a4f",
   "metadata": {},
   "source": [
    "## Right Outer Join"
   ]
  },
  {
   "cell_type": "code",
   "execution_count": 4,
   "id": "8071e63e-1462-4860-bdbc-53f3d05c44c9",
   "metadata": {},
   "outputs": [
    {
     "data": {
      "text/plain": [
       "[('b', (2, 12)),\n",
       " ('d', (None, 13)),\n",
       " ('a', (1, 11)),\n",
       " ('a', (1, 14)),\n",
       " ('a', (4, 11)),\n",
       " ('a', (4, 14))]"
      ]
     },
     "execution_count": 4,
     "metadata": {},
     "output_type": "execute_result"
    }
   ],
   "source": [
    "r1.rightOuterJoin(r2).collect()"
   ]
  },
  {
   "cell_type": "markdown",
   "id": "4553e998-467e-408e-8690-92881d339ad2",
   "metadata": {},
   "source": [
    "## Left Outer Join"
   ]
  },
  {
   "cell_type": "code",
   "execution_count": 5,
   "id": "e50f0ad1-faa7-434a-8ba3-fdc9b83efc92",
   "metadata": {},
   "outputs": [
    {
     "data": {
      "text/plain": [
       "[('b', (2, 12)),\n",
       " ('a', (1, 11)),\n",
       " ('a', (1, 14)),\n",
       " ('a', (4, 11)),\n",
       " ('a', (4, 14)),\n",
       " ('c', (3, None))]"
      ]
     },
     "execution_count": 5,
     "metadata": {},
     "output_type": "execute_result"
    }
   ],
   "source": [
    "r1.leftOuterJoin(r2).collect()"
   ]
  },
  {
   "cell_type": "markdown",
   "id": "0bd7e893-d663-4669-a46c-4f53986d197d",
   "metadata": {},
   "source": [
    "## Full Outer Join"
   ]
  },
  {
   "cell_type": "code",
   "execution_count": 6,
   "id": "675baf3f-d8d0-4767-b4b8-0a08982b04cb",
   "metadata": {},
   "outputs": [
    {
     "data": {
      "text/plain": [
       "[('b', (2, 12)),\n",
       " ('d', (None, 13)),\n",
       " ('a', (1, 11)),\n",
       " ('a', (1, 14)),\n",
       " ('a', (4, 11)),\n",
       " ('a', (4, 14)),\n",
       " ('c', (3, None))]"
      ]
     },
     "execution_count": 6,
     "metadata": {},
     "output_type": "execute_result"
    }
   ],
   "source": [
    "r1.fullOuterJoin(r2).collect()"
   ]
  },
  {
   "cell_type": "markdown",
   "id": "40e4f022-6cc7-4459-9e0c-46ba77419ca3",
   "metadata": {},
   "source": [
    "## Cartesian Join"
   ]
  },
  {
   "cell_type": "code",
   "execution_count": 7,
   "id": "327aee3b-1432-415c-8b92-a2153d6ea416",
   "metadata": {},
   "outputs": [
    {
     "data": {
      "text/plain": [
       "[(('a', 1), ('a', 11)),\n",
       " (('a', 1), ('a', 14)),\n",
       " (('a', 1), ('b', 12)),\n",
       " (('a', 1), ('d', 13)),\n",
       " (('a', 4), ('a', 11)),\n",
       " (('a', 4), ('a', 14)),\n",
       " (('a', 4), ('b', 12)),\n",
       " (('a', 4), ('d', 13)),\n",
       " (('b', 2), ('a', 11)),\n",
       " (('b', 2), ('a', 14)),\n",
       " (('b', 2), ('b', 12)),\n",
       " (('b', 2), ('d', 13)),\n",
       " (('c', 3), ('a', 11)),\n",
       " (('c', 3), ('a', 14)),\n",
       " (('c', 3), ('b', 12)),\n",
       " (('c', 3), ('d', 13))]"
      ]
     },
     "execution_count": 7,
     "metadata": {},
     "output_type": "execute_result"
    }
   ],
   "source": [
    "r1.cartesian(r2).collect()"
   ]
  },
  {
   "cell_type": "code",
   "execution_count": null,
   "id": "5bb46039-6ef2-40a9-9738-eef332370217",
   "metadata": {},
   "outputs": [],
   "source": []
  }
 ],
 "metadata": {
  "kernelspec": {
   "display_name": "Python 3 (ipykernel)",
   "language": "python",
   "name": "python3"
  },
  "language_info": {
   "codemirror_mode": {
    "name": "ipython",
    "version": 3
   },
   "file_extension": ".py",
   "mimetype": "text/x-python",
   "name": "python",
   "nbconvert_exporter": "python",
   "pygments_lexer": "ipython3",
   "version": "3.10.7"
  }
 },
 "nbformat": 4,
 "nbformat_minor": 5
}
