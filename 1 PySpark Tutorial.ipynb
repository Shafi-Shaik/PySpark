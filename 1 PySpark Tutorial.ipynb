{
 "cells": [
  {
   "cell_type": "code",
   "execution_count": 1,
   "id": "1588cfb7-f516-41d8-965c-97ffb73a8004",
   "metadata": {},
   "outputs": [],
   "source": [
    "import pandas as pd\n",
    "\n",
    "#from pyspark import SparkContext       ## SparkContext\n",
    "#from pyspark.sql import SQLContext     ## SQLContext\n",
    "\n",
    "from pyspark.sql import SparkSession   ## SparkSession\n"
   ]
  },
  {
   "cell_type": "code",
   "execution_count": 2,
   "id": "d05ab887-f37f-4fe5-b1c1-cc98360da09a",
   "metadata": {},
   "outputs": [],
   "source": [
    "#SparkSession\n",
    "spark=SparkSession.builder.appName('practice session').getOrCreate()"
   ]
  },
  {
   "cell_type": "code",
   "execution_count": 3,
   "id": "580532cc-869b-4421-93a2-3ceb9fc86317",
   "metadata": {},
   "outputs": [
    {
     "data": {
      "text/html": [
       "\n",
       "            <div>\n",
       "                <p><b>SparkSession - in-memory</b></p>\n",
       "                \n",
       "        <div>\n",
       "            <p><b>SparkContext</b></p>\n",
       "\n",
       "            <p><a href=\"http://ShafiVivobook.mshome.net:4040\">Spark UI</a></p>\n",
       "\n",
       "            <dl>\n",
       "              <dt>Version</dt>\n",
       "                <dd><code>v3.3.1</code></dd>\n",
       "              <dt>Master</dt>\n",
       "                <dd><code>local[*]</code></dd>\n",
       "              <dt>AppName</dt>\n",
       "                <dd><code>practice session</code></dd>\n",
       "            </dl>\n",
       "        </div>\n",
       "        \n",
       "            </div>\n",
       "        "
      ],
      "text/plain": [
       "<pyspark.sql.session.SparkSession at 0x1fde003ae90>"
      ]
     },
     "execution_count": 3,
     "metadata": {},
     "output_type": "execute_result"
    }
   ],
   "source": [
    "spark"
   ]
  },
  {
   "cell_type": "code",
   "execution_count": 4,
   "id": "eb9faf8d-5d98-479d-b7ce-a1d655fca8ca",
   "metadata": {},
   "outputs": [
    {
     "name": "stdout",
     "output_type": "stream",
     "text": [
      "+-------+\n",
      "|column1|\n",
      "+-------+\n",
      "| Shafi |\n",
      "+-------+\n",
      "\n"
     ]
    }
   ],
   "source": [
    "df=spark.sql(''' SELECT \"Shafi \" as column1 ''')\n",
    "df.show()"
   ]
  },
  {
   "cell_type": "markdown",
   "id": "794d7edf-fefe-41fb-bdbb-c4325165c1b0",
   "metadata": {},
   "source": [
    "# RDD - Resilient Distributed Dataset\n",
    "* immutable JVM objects that allows you to perform calculations very quickly \n",
    "* datasets is distributed into chunks that allows you parallel processing"
   ]
  },
  {
   "cell_type": "code",
   "execution_count": 5,
   "id": "f8a5259c-e425-457f-a5de-9dbf485a2c2e",
   "metadata": {},
   "outputs": [],
   "source": [
    "data = ([(1580, \"Barry\", \"FireFox\", \"Windows\" ),\n",
    "(5820, \"Sam\", \"MS Edge\", \"Linux\"),\n",
    "(2340, \"Harry\", \"Vivaldi\", \"Windows\"),\n",
    "(7860, \"Albert\", \"Chrome\", \"Windows\"),\n",
    "(1123, \"May\", \"Safari\", \"macOS\")\n",
    "])"
   ]
  },
  {
   "cell_type": "code",
   "execution_count": 6,
   "id": "05779213-a36d-43e6-95f8-b53b2f199ddf",
   "metadata": {},
   "outputs": [],
   "source": [
    "#RDD\n",
    "rdd1=spark.sparkContext.parallelize(data)"
   ]
  },
  {
   "cell_type": "code",
   "execution_count": 7,
   "id": "824d6d8f-c29b-49f7-9639-fe04748a8115",
   "metadata": {},
   "outputs": [
    {
     "data": {
      "text/plain": [
       "ParallelCollectionRDD[3] at readRDDFromFile at PythonRDD.scala:274"
      ]
     },
     "execution_count": 7,
     "metadata": {},
     "output_type": "execute_result"
    }
   ],
   "source": [
    "rdd1 # this will store data in RAM (not in Harddisk)"
   ]
  },
  {
   "cell_type": "code",
   "execution_count": 8,
   "id": "ec5297c1-5220-411e-a672-8718f6ee914e",
   "metadata": {},
   "outputs": [
    {
     "data": {
      "text/plain": [
       "[(1580, 'Barry', 'FireFox', 'Windows'),\n",
       " (5820, 'Sam', 'MS Edge', 'Linux'),\n",
       " (2340, 'Harry', 'Vivaldi', 'Windows'),\n",
       " (7860, 'Albert', 'Chrome', 'Windows'),\n",
       " (1123, 'May', 'Safari', 'macOS')]"
      ]
     },
     "execution_count": 8,
     "metadata": {},
     "output_type": "execute_result"
    }
   ],
   "source": [
    "rdd1.collect() # to get data from RAM to harddisk, in order to view the data."
   ]
  },
  {
   "cell_type": "code",
   "execution_count": 9,
   "id": "7696a323-0ab7-434a-88ba-39951be89e4f",
   "metadata": {
    "scrolled": true,
    "tags": []
   },
   "outputs": [
    {
     "data": {
      "text/plain": [
       "[(1580, 'Barry', 'FireFox', 'Windows'),\n",
       " (5820, 'Sam', 'MS Edge', 'Linux'),\n",
       " (2340, 'Harry', 'Vivaldi', 'Windows'),\n",
       " (7860, 'Albert', 'Chrome', 'Windows')]"
      ]
     },
     "execution_count": 9,
     "metadata": {},
     "output_type": "execute_result"
    }
   ],
   "source": [
    "rdd1.take(4)"
   ]
  },
  {
   "cell_type": "code",
   "execution_count": 10,
   "id": "11c27670-d591-4e47-8210-a400ab6ebccc",
   "metadata": {},
   "outputs": [
    {
     "data": {
      "text/plain": [
       "[(1580, 'Barry', 'FireFox', 'Windows'),\n",
       " (5820, 'Sam', 'MS Edge', 'Linux'),\n",
       " (2340, 'Harry', 'Vivaldi', 'Windows'),\n",
       " (7860, 'Albert', 'Chrome', 'Windows'),\n",
       " (1123, 'May', 'Safari', 'macOS')]"
      ]
     },
     "execution_count": 10,
     "metadata": {},
     "output_type": "execute_result"
    }
   ],
   "source": [
    "rdd1.collect()"
   ]
  },
  {
   "cell_type": "markdown",
   "id": "928237a9-9fea-4e15-a382-408e2b2a9729",
   "metadata": {
    "tags": []
   },
   "source": [
    "# DataFrame from RDD"
   ]
  },
  {
   "cell_type": "code",
   "execution_count": 11,
   "id": "04fa1da0-f5fa-436d-9fb7-3be0550ac716",
   "metadata": {},
   "outputs": [],
   "source": [
    "from datetime import date\n",
    "a=[\n",
    "    (1,1.0,'shafi',date(2022,1,19)),\n",
    "    (3,4.0,'ravi',date(2022,12,31)),\n",
    "     (4,5.0,'karan',date(2022,11,1)),\n",
    "     (2,14.78,'nadeem',date(2022,11,4)),\n",
    "     (22,13.0,'mir',date(2022,7,9))\n",
    "  ]\n",
    "cols=[('sno' ,int) ,('gpa', float),('name', str),('doj' ,date)]"
   ]
  },
  {
   "cell_type": "code",
   "execution_count": 12,
   "id": "781727c9-3bab-4cc5-ae30-d3c8a64bba85",
   "metadata": {},
   "outputs": [
    {
     "data": {
      "text/plain": [
       "[(1, 1.0, 'shafi', datetime.date(2022, 1, 19)),\n",
       " (3, 4.0, 'ravi', datetime.date(2022, 12, 31)),\n",
       " (4, 5.0, 'karan', datetime.date(2022, 11, 1)),\n",
       " (2, 14.78, 'nadeem', datetime.date(2022, 11, 4)),\n",
       " (22, 13.0, 'mir', datetime.date(2022, 7, 9))]"
      ]
     },
     "execution_count": 12,
     "metadata": {},
     "output_type": "execute_result"
    }
   ],
   "source": [
    "a"
   ]
  },
  {
   "cell_type": "code",
   "execution_count": 13,
   "id": "5eeae2cf-2a16-4093-bf0c-d951f267d45c",
   "metadata": {},
   "outputs": [
    {
     "data": {
      "text/plain": [
       "pyspark.rdd.RDD"
      ]
     },
     "execution_count": 13,
     "metadata": {},
     "output_type": "execute_result"
    }
   ],
   "source": [
    "rdd2=spark.sparkContext.parallelize(a)\n",
    "type(rdd2)"
   ]
  },
  {
   "cell_type": "code",
   "execution_count": 14,
   "id": "22d80e06-4541-4be8-a422-3aa5ebce87c7",
   "metadata": {},
   "outputs": [
    {
     "data": {
      "text/plain": [
       "[(1, 1.0, 'shafi', datetime.date(2022, 1, 19)),\n",
       " (3, 4.0, 'ravi', datetime.date(2022, 12, 31)),\n",
       " (4, 5.0, 'karan', datetime.date(2022, 11, 1)),\n",
       " (2, 14.78, 'nadeem', datetime.date(2022, 11, 4)),\n",
       " (22, 13.0, 'mir', datetime.date(2022, 7, 9))]"
      ]
     },
     "execution_count": 14,
     "metadata": {},
     "output_type": "execute_result"
    }
   ],
   "source": [
    "rdd2.collect()"
   ]
  },
  {
   "cell_type": "code",
   "execution_count": 16,
   "id": "9fe3cede-10bb-4cc6-b3df-8d64045bc093",
   "metadata": {
    "scrolled": true,
    "tags": []
   },
   "outputs": [
    {
     "data": {
      "text/plain": [
       "DataFrame[num1: bigint, float1: double, str1: string, date1: date]"
      ]
     },
     "execution_count": 16,
     "metadata": {},
     "output_type": "execute_result"
    }
   ],
   "source": [
    "df=spark.createDataFrame(rdd2,schema=[\"num1\",\"float1\",\"str1\",\"date1\"])\n",
    "df"
   ]
  },
  {
   "cell_type": "code",
   "execution_count": 17,
   "id": "4badc2ed-0251-48d4-a31f-3c9771481531",
   "metadata": {},
   "outputs": [
    {
     "name": "stdout",
     "output_type": "stream",
     "text": [
      "+----+------+------+----------+\n",
      "|num1|float1|  str1|     date1|\n",
      "+----+------+------+----------+\n",
      "|   1|   1.0| shafi|2022-01-19|\n",
      "|   3|   4.0|  ravi|2022-12-31|\n",
      "|   4|   5.0| karan|2022-11-01|\n",
      "|   2| 14.78|nadeem|2022-11-04|\n",
      "|  22|  13.0|   mir|2022-07-09|\n",
      "+----+------+------+----------+\n",
      "\n"
     ]
    }
   ],
   "source": [
    "df.show()"
   ]
  },
  {
   "cell_type": "code",
   "execution_count": 18,
   "id": "2ae3cbbb-f9e2-4752-8342-e4149a8de898",
   "metadata": {},
   "outputs": [
    {
     "data": {
      "text/plain": [
       "['num1', 'float1', 'str1', 'date1']"
      ]
     },
     "execution_count": 18,
     "metadata": {},
     "output_type": "execute_result"
    }
   ],
   "source": [
    "df.columns"
   ]
  },
  {
   "cell_type": "markdown",
   "id": "189fe610-b47a-468d-a836-1fe68266a578",
   "metadata": {
    "jp-MarkdownHeadingCollapsed": true,
    "tags": []
   },
   "source": [
    "# PySpark DataFrame"
   ]
  },
  {
   "cell_type": "code",
   "execution_count": null,
   "id": "e8589ffe-2eea-40a2-8aa8-10391f215e54",
   "metadata": {},
   "outputs": [],
   "source": []
  },
  {
   "cell_type": "code",
   "execution_count": null,
   "id": "5eafd85f-1881-416e-9b6a-6314aa4eec86",
   "metadata": {},
   "outputs": [],
   "source": []
  },
  {
   "cell_type": "code",
   "execution_count": null,
   "id": "30cc334a-535c-4279-9b4f-7afcf7ff8059",
   "metadata": {},
   "outputs": [],
   "source": []
  },
  {
   "cell_type": "code",
   "execution_count": null,
   "id": "a88b13ba-a02c-439a-b833-87817f88f1e3",
   "metadata": {},
   "outputs": [],
   "source": []
  },
  {
   "cell_type": "code",
   "execution_count": null,
   "id": "7569fdbe-fe79-4346-a36e-8ba934f31d8b",
   "metadata": {},
   "outputs": [],
   "source": []
  },
  {
   "cell_type": "code",
   "execution_count": null,
   "id": "0abe370a-63ab-4296-b1d3-1c8ec94fa266",
   "metadata": {},
   "outputs": [],
   "source": []
  },
  {
   "cell_type": "code",
   "execution_count": null,
   "id": "f8b91286-4643-4660-b92e-bb2667439128",
   "metadata": {},
   "outputs": [],
   "source": []
  }
 ],
 "metadata": {
  "kernelspec": {
   "display_name": "Python 3 (ipykernel)",
   "language": "python",
   "name": "python3"
  },
  "language_info": {
   "codemirror_mode": {
    "name": "ipython",
    "version": 3
   },
   "file_extension": ".py",
   "mimetype": "text/x-python",
   "name": "python",
   "nbconvert_exporter": "python",
   "pygments_lexer": "ipython3",
   "version": "3.10.7"
  }
 },
 "nbformat": 4,
 "nbformat_minor": 5
}
