{
 "cells": [
  {
   "cell_type": "code",
   "execution_count": 1,
   "id": "82f291e6-8873-4c90-80d4-66de28e3a52f",
   "metadata": {
    "scrolled": true,
    "tags": []
   },
   "outputs": [
    {
     "data": {
      "text/html": [
       "\n",
       "            <div>\n",
       "                <p><b>SparkSession - in-memory</b></p>\n",
       "                \n",
       "        <div>\n",
       "            <p><b>SparkContext</b></p>\n",
       "\n",
       "            <p><a href=\"http://ShafiVivobook.mshome.net:4040\">Spark UI</a></p>\n",
       "\n",
       "            <dl>\n",
       "              <dt>Version</dt>\n",
       "                <dd><code>v3.3.1</code></dd>\n",
       "              <dt>Master</dt>\n",
       "                <dd><code>local[1]</code></dd>\n",
       "              <dt>AppName</dt>\n",
       "                <dd><code>practice 2</code></dd>\n",
       "            </dl>\n",
       "        </div>\n",
       "        \n",
       "            </div>\n",
       "        "
      ],
      "text/plain": [
       "<pyspark.sql.session.SparkSession at 0x1cd4898eec0>"
      ]
     },
     "execution_count": 1,
     "metadata": {},
     "output_type": "execute_result"
    }
   ],
   "source": [
    "\n",
    "# Import SparkSession\n",
    "from pyspark.sql import SparkSession\n",
    "\n",
    "# Create SparkSession \n",
    "spark = SparkSession.builder \\\n",
    "      .master(\"local[1]\") \\\n",
    "      .appName(\"practice 2\") \\\n",
    "      .getOrCreate() \n",
    "\n",
    "spark"
   ]
  },
  {
   "cell_type": "code",
   "execution_count": 2,
   "id": "1b6a236e-d36e-4e9b-b8fc-e167efbcd064",
   "metadata": {},
   "outputs": [
    {
     "name": "stdout",
     "output_type": "stream",
     "text": [
      "+-----+--------------------+\n",
      "|Seqno|               Quote|\n",
      "+-----+--------------------+\n",
      "|    1|Be the change tha...|\n",
      "|    2|Everyone thinks o...|\n",
      "|    3|The purpose of ou...|\n",
      "|    4|            Be cool.|\n",
      "+-----+--------------------+\n",
      "\n"
     ]
    }
   ],
   "source": [
    "columns = [\"Seqno\",\"Quote\"]\n",
    "data = [(\"1\", \"Be the change that you wish to see in the world\"),\n",
    "    (\"2\", \"Everyone thinks of changing the world, but no one thinks of changing himself.\"),\n",
    "    (\"3\", \"The purpose of our lives is to be happy.\"),\n",
    "    (\"4\", \"Be cool.\")]\n",
    "df = spark.createDataFrame(data,columns)\n",
    "df.show()\n"
   ]
  },
  {
   "cell_type": "markdown",
   "id": "57be57f6-9bd9-43b4-903b-1dc192c318da",
   "metadata": {
    "jp-MarkdownHeadingCollapsed": true,
    "tags": []
   },
   "source": [
    "#### <center> show() : </center>"
   ]
  },
  {
   "cell_type": "markdown",
   "id": "bfc34bf4-a6e0-4439-b583-39ae6909fd7d",
   "metadata": {},
   "source": [
    "##### Syntax : def show(self, n=20, truncate=True, vertical=False)\n",
    "  * By default, it shows only 20 Rows, and the column values are truncated at 20 characters.\n",
    "  * truncate = True - truncate content of column at 20 characters, make it FALSE to see full content\n",
    "  * vertical = False - show columns horizontally, make it TRUE to see columns\n"
   ]
  },
  {
   "cell_type": "code",
   "execution_count": 3,
   "id": "fc0a7fee-1c1c-492b-a853-eddc6254eb21",
   "metadata": {},
   "outputs": [
    {
     "name": "stdout",
     "output_type": "stream",
     "text": [
      "+-----+------------------------------+\n",
      "|Seqno|                         Quote|\n",
      "+-----+------------------------------+\n",
      "|    1|Be the change that you wish...|\n",
      "|    2|Everyone thinks of changing...|\n",
      "+-----+------------------------------+\n",
      "only showing top 2 rows\n",
      "\n"
     ]
    }
   ],
   "source": [
    "df.show(2,truncate = 30)"
   ]
  },
  {
   "cell_type": "code",
   "execution_count": 4,
   "id": "d1048af3-77aa-4083-89ea-936e8b9bbdfb",
   "metadata": {},
   "outputs": [
    {
     "name": "stdout",
     "output_type": "stream",
     "text": [
      "+-----+-----------------------------------------------------------------------------+\n",
      "|Seqno|Quote                                                                        |\n",
      "+-----+-----------------------------------------------------------------------------+\n",
      "|1    |Be the change that you wish to see in the world                              |\n",
      "|2    |Everyone thinks of changing the world, but no one thinks of changing himself.|\n",
      "+-----+-----------------------------------------------------------------------------+\n",
      "only showing top 2 rows\n",
      "\n"
     ]
    }
   ],
   "source": [
    "df.show(2,truncate = False)"
   ]
  },
  {
   "cell_type": "code",
   "execution_count": 5,
   "id": "a05bc116-f08e-4910-b75b-59fd0b2073c4",
   "metadata": {},
   "outputs": [
    {
     "name": "stdout",
     "output_type": "stream",
     "text": [
      "+-----+--------------------+\n",
      "|Seqno|               Quote|\n",
      "+-----+--------------------+\n",
      "|    1|Be the change tha...|\n",
      "|    2|Everyone thinks o...|\n",
      "+-----+--------------------+\n",
      "only showing top 2 rows\n",
      "\n"
     ]
    }
   ],
   "source": [
    "df.show(2,vertical = False)"
   ]
  },
  {
   "cell_type": "code",
   "execution_count": 6,
   "id": "f119f73f-008c-49ea-a450-67d797967e6b",
   "metadata": {},
   "outputs": [
    {
     "name": "stdout",
     "output_type": "stream",
     "text": [
      "-RECORD 0---------------------\n",
      " Seqno | 1                    \n",
      " Quote | Be the change tha... \n",
      "-RECORD 1---------------------\n",
      " Seqno | 2                    \n",
      " Quote | Everyone thinks o... \n",
      "only showing top 2 rows\n",
      "\n"
     ]
    }
   ],
   "source": [
    "df.show(2,vertical = True)"
   ]
  },
  {
   "cell_type": "code",
   "execution_count": 7,
   "id": "004099fe-95c6-4156-bf1d-d759b497a950",
   "metadata": {},
   "outputs": [
    {
     "name": "stdout",
     "output_type": "stream",
     "text": [
      "-RECORD 0------------------------------------------------------------------------------\n",
      " Seqno | 1                                                                             \n",
      " Quote | Be the change that you wish to see in the world                               \n",
      "-RECORD 1------------------------------------------------------------------------------\n",
      " Seqno | 2                                                                             \n",
      " Quote | Everyone thinks of changing the world, but no one thinks of changing himself. \n",
      "only showing top 2 rows\n",
      "\n"
     ]
    }
   ],
   "source": [
    "df.show(2,vertical = True,truncate = False)"
   ]
  },
  {
   "cell_type": "markdown",
   "id": "082b88c8-eb2f-4e36-ba80-658171c33f73",
   "metadata": {
    "jp-MarkdownHeadingCollapsed": true,
    "tags": []
   },
   "source": [
    "#### <center> take(n) : </center>"
   ]
  },
  {
   "cell_type": "code",
   "execution_count": 8,
   "id": "a75d96d1-d74a-498c-a823-8b6b5607834b",
   "metadata": {},
   "outputs": [
    {
     "data": {
      "text/plain": [
       "[Row(Seqno='1', Quote='Be the change that you wish to see in the world'),\n",
       " Row(Seqno='2', Quote='Everyone thinks of changing the world, but no one thinks of changing himself.'),\n",
       " Row(Seqno='3', Quote='The purpose of our lives is to be happy.')]"
      ]
     },
     "execution_count": 8,
     "metadata": {},
     "output_type": "execute_result"
    }
   ],
   "source": [
    "df.take(3)"
   ]
  },
  {
   "cell_type": "markdown",
   "id": "7ec720ee-e247-4828-a44c-2c807898d3e4",
   "metadata": {
    "jp-MarkdownHeadingCollapsed": true,
    "tags": []
   },
   "source": [
    "#### <center> select() : </center>"
   ]
  },
  {
   "cell_type": "code",
   "execution_count": 9,
   "id": "6d8b8cd8-2ab5-46bc-8dd8-826c40511052",
   "metadata": {},
   "outputs": [
    {
     "name": "stdout",
     "output_type": "stream",
     "text": [
      "root\n",
      " |-- name: struct (nullable = true)\n",
      " |    |-- firstname: string (nullable = true)\n",
      " |    |-- middlename: string (nullable = true)\n",
      " |    |-- lastname: string (nullable = true)\n",
      " |-- state: string (nullable = true)\n",
      " |-- gender: string (nullable = true)\n",
      "\n",
      "+----------------------+-----+------+\n",
      "|name                  |state|gender|\n",
      "+----------------------+-----+------+\n",
      "|{James, null, Smith}  |OH   |M     |\n",
      "|{Anna, Rose, }        |NY   |F     |\n",
      "|{Julia, , Williams}   |OH   |F     |\n",
      "|{Maria, Anne, Jones}  |NY   |M     |\n",
      "|{Jen, Mary, Brown}    |NY   |M     |\n",
      "|{Mike, Mary, Williams}|OH   |M     |\n",
      "+----------------------+-----+------+\n",
      "\n"
     ]
    }
   ],
   "source": [
    "data = [((\"James\",None,\"Smith\"),\"OH\",\"M\"),\n",
    "        ((\"Anna\",\"Rose\",\"\"),\"NY\",\"F\"),\n",
    "        ((\"Julia\",\"\",\"Williams\"),\"OH\",\"F\"),\n",
    "        ((\"Maria\",\"Anne\",\"Jones\"),\"NY\",\"M\"),\n",
    "        ((\"Jen\",\"Mary\",\"Brown\"),\"NY\",\"M\"),\n",
    "        ((\"Mike\",\"Mary\",\"Williams\"),\"OH\",\"M\")\n",
    "        ]\n",
    "\n",
    "\n",
    "from pyspark.sql.types import StructType,StructField, StringType \n",
    "\n",
    "schema = StructType([\n",
    "    StructField('name', StructType([\n",
    "         StructField('firstname', StringType(), True),\n",
    "         StructField('middlename', StringType(), True),\n",
    "         StructField('lastname', StringType(), True)\n",
    "         ])),\n",
    "     StructField('state', StringType(), True),\n",
    "     StructField('gender', StringType(), True)\n",
    "     ])\n",
    "\n",
    "df = spark.createDataFrame(data = data, schema = schema)\n",
    "df.printSchema()\n",
    "df.show(truncate=False) # shows all columns"
   ]
  },
  {
   "cell_type": "code",
   "execution_count": 10,
   "id": "d7b0eec3-8b5f-42a3-8d14-d28022b04d70",
   "metadata": {},
   "outputs": [
    {
     "name": "stdout",
     "output_type": "stream",
     "text": [
      "+--------------------+-----+------+\n",
      "|                name|state|gender|\n",
      "+--------------------+-----+------+\n",
      "|{James, null, Smith}|   OH|     M|\n",
      "|      {Anna, Rose, }|   NY|     F|\n",
      "| {Julia, , Williams}|   OH|     F|\n",
      "+--------------------+-----+------+\n",
      "only showing top 3 rows\n",
      "\n",
      "+--------------------+-----+------+\n",
      "|                name|state|gender|\n",
      "+--------------------+-----+------+\n",
      "|{James, null, Smith}|   OH|     M|\n",
      "|      {Anna, Rose, }|   NY|     F|\n",
      "| {Julia, , Williams}|   OH|     F|\n",
      "+--------------------+-----+------+\n",
      "only showing top 3 rows\n",
      "\n"
     ]
    }
   ],
   "source": [
    "# Select All columns\n",
    "df.select([col for col in df.columns]).show(3)\n",
    "\n",
    "df.select(\"*\").show(3)"
   ]
  },
  {
   "cell_type": "code",
   "execution_count": 11,
   "id": "0ad071e7-0e57-4698-986d-d4a2df79f283",
   "metadata": {},
   "outputs": [
    {
     "name": "stdout",
     "output_type": "stream",
     "text": [
      "+--------------------+-----+------+\n",
      "|                name|state|gender|\n",
      "+--------------------+-----+------+\n",
      "|{James, null, Smith}|   OH|     M|\n",
      "|      {Anna, Rose, }|   NY|     F|\n",
      "| {Julia, , Williams}|   OH|     F|\n",
      "+--------------------+-----+------+\n",
      "only showing top 3 rows\n",
      "\n",
      "+------+\n",
      "|gender|\n",
      "+------+\n",
      "|     M|\n",
      "|     F|\n",
      "|     F|\n",
      "+------+\n",
      "only showing top 3 rows\n",
      "\n"
     ]
    }
   ],
   "source": [
    "\n",
    "#Selects first 3 columns and top 3 rows\n",
    "df.select(df.columns[:3]).show(3)\n",
    "\n",
    "#Selects columns 2 to 4  and top 3 rows\n",
    "df.select(df.columns[2:4]).show(3)\n"
   ]
  },
  {
   "cell_type": "code",
   "execution_count": 12,
   "id": "6458c201-d506-4791-b1c0-a390b15d17b7",
   "metadata": {},
   "outputs": [
    {
     "name": "stdout",
     "output_type": "stream",
     "text": [
      "+---------+--------+\n",
      "|firstname|lastname|\n",
      "+---------+--------+\n",
      "|James    |Smith   |\n",
      "|Anna     |        |\n",
      "|Julia    |Williams|\n",
      "+---------+--------+\n",
      "only showing top 3 rows\n",
      "\n",
      "+---------+----------+--------+\n",
      "|firstname|middlename|lastname|\n",
      "+---------+----------+--------+\n",
      "|James    |null      |Smith   |\n",
      "|Anna     |Rose      |        |\n",
      "|Julia    |          |Williams|\n",
      "+---------+----------+--------+\n",
      "only showing top 3 rows\n",
      "\n"
     ]
    }
   ],
   "source": [
    "df.select(\"name.firstname\",\"name.lastname\").show(3,truncate=False)\n",
    "df.select(\"name.*\").show(3,truncate=False)"
   ]
  },
  {
   "cell_type": "code",
   "execution_count": 13,
   "id": "b885ae29-e895-4aca-813b-89138433b836",
   "metadata": {},
   "outputs": [
    {
     "name": "stdout",
     "output_type": "stream",
     "text": [
      "+-----+------+\n",
      "|state|gender|\n",
      "+-----+------+\n",
      "|   OH|     M|\n",
      "|   NY|     F|\n",
      "|   OH|     F|\n",
      "|   NY|     M|\n",
      "|   NY|     M|\n",
      "|   OH|     M|\n",
      "+-----+------+\n",
      "\n"
     ]
    }
   ],
   "source": [
    "df.select('state','gender').show()"
   ]
  },
  {
   "cell_type": "markdown",
   "id": "578fa305-7c65-43a0-aa70-36a38c95b605",
   "metadata": {
    "jp-MarkdownHeadingCollapsed": true,
    "tags": []
   },
   "source": [
    "#### <center> collect() : </center>"
   ]
  },
  {
   "cell_type": "code",
   "execution_count": 14,
   "id": "9cd0b47a-fa7e-41de-8d7c-67d05de65636",
   "metadata": {},
   "outputs": [
    {
     "data": {
      "text/plain": [
       "[Row(name=Row(firstname='James', middlename=None, lastname='Smith'), state='OH', gender='M'),\n",
       " Row(name=Row(firstname='Anna', middlename='Rose', lastname=''), state='NY', gender='F'),\n",
       " Row(name=Row(firstname='Julia', middlename='', lastname='Williams'), state='OH', gender='F'),\n",
       " Row(name=Row(firstname='Maria', middlename='Anne', lastname='Jones'), state='NY', gender='M'),\n",
       " Row(name=Row(firstname='Jen', middlename='Mary', lastname='Brown'), state='NY', gender='M'),\n",
       " Row(name=Row(firstname='Mike', middlename='Mary', lastname='Williams'), state='OH', gender='M')]"
      ]
     },
     "execution_count": 14,
     "metadata": {},
     "output_type": "execute_result"
    }
   ],
   "source": [
    "df.collect()"
   ]
  },
  {
   "cell_type": "code",
   "execution_count": 15,
   "id": "c969aad5-ebf7-444c-b14e-afc6d11c51df",
   "metadata": {},
   "outputs": [
    {
     "name": "stdout",
     "output_type": "stream",
     "text": [
      "[Row(name=Row(firstname='James', middlename=None, lastname='Smith'), state='OH', gender='M'), Row(name=Row(firstname='Anna', middlename='Rose', lastname=''), state='NY', gender='F'), Row(name=Row(firstname='Julia', middlename='', lastname='Williams'), state='OH', gender='F'), Row(name=Row(firstname='Maria', middlename='Anne', lastname='Jones'), state='NY', gender='M'), Row(name=Row(firstname='Jen', middlename='Mary', lastname='Brown'), state='NY', gender='M'), Row(name=Row(firstname='Mike', middlename='Mary', lastname='Williams'), state='OH', gender='M')]\n"
     ]
    }
   ],
   "source": [
    "dataCollect = df.collect()\n",
    "print(dataCollect)"
   ]
  },
  {
   "cell_type": "code",
   "execution_count": 16,
   "id": "45ecc038-bb1f-4223-8faa-dc3eee4cffcc",
   "metadata": {},
   "outputs": [
    {
     "name": "stdout",
     "output_type": "stream",
     "text": [
      "OH,M\n",
      "NY,F\n",
      "OH,F\n",
      "NY,M\n",
      "NY,M\n",
      "OH,M\n"
     ]
    }
   ],
   "source": [
    "for row in dataCollect:\n",
    "    print(row['state'] + \",\" +str(row['gender']))"
   ]
  },
  {
   "cell_type": "code",
   "execution_count": 17,
   "id": "86786c3c-0903-46dd-8e75-27851292535e",
   "metadata": {},
   "outputs": [
    {
     "name": "stdout",
     "output_type": "stream",
     "text": [
      "[Row(name=Row(firstname='James', middlename=None, lastname='Smith')), Row(name=Row(firstname='Anna', middlename='Rose', lastname='')), Row(name=Row(firstname='Julia', middlename='', lastname='Williams')), Row(name=Row(firstname='Maria', middlename='Anne', lastname='Jones')), Row(name=Row(firstname='Jen', middlename='Mary', lastname='Brown')), Row(name=Row(firstname='Mike', middlename='Mary', lastname='Williams'))]\n"
     ]
    }
   ],
   "source": [
    "dataCollect2 = df.select(\"name\").collect()\n",
    "print(dataCollect2)\n"
   ]
  },
  {
   "cell_type": "markdown",
   "id": "fabe7956-795e-4e6b-9a1e-8da5b1563865",
   "metadata": {
    "jp-MarkdownHeadingCollapsed": true,
    "tags": []
   },
   "source": [
    "#### <center> printSchema() : </center>"
   ]
  },
  {
   "cell_type": "code",
   "execution_count": 18,
   "id": "318e06b1-24ee-4a0e-a2cd-d6a7fcdb34a6",
   "metadata": {},
   "outputs": [
    {
     "name": "stdout",
     "output_type": "stream",
     "text": [
      "root\n",
      " |-- name: struct (nullable = true)\n",
      " |    |-- firstname: string (nullable = true)\n",
      " |    |-- middlename: string (nullable = true)\n",
      " |    |-- lastname: string (nullable = true)\n",
      " |-- state: string (nullable = true)\n",
      " |-- gender: string (nullable = true)\n",
      "\n"
     ]
    }
   ],
   "source": [
    "df.printSchema()"
   ]
  },
  {
   "cell_type": "markdown",
   "id": "60fe0f9b-c666-44d1-b8e5-b26819a112f9",
   "metadata": {
    "jp-MarkdownHeadingCollapsed": true,
    "tags": []
   },
   "source": [
    "#### <center> columns: </center>"
   ]
  },
  {
   "cell_type": "code",
   "execution_count": 19,
   "id": "50f2c347-6a3f-4064-8e60-ddf9cb97346a",
   "metadata": {},
   "outputs": [
    {
     "data": {
      "text/plain": [
       "['name', 'state', 'gender']"
      ]
     },
     "execution_count": 19,
     "metadata": {},
     "output_type": "execute_result"
    }
   ],
   "source": [
    "df.columns"
   ]
  },
  {
   "cell_type": "markdown",
   "id": "4de9c1fb-d3b9-4595-9a7d-006d9101178f",
   "metadata": {
    "jp-MarkdownHeadingCollapsed": true,
    "tags": []
   },
   "source": [
    "#### <center> count() : </center>"
   ]
  },
  {
   "cell_type": "code",
   "execution_count": 20,
   "id": "d9c7ab17-9c88-4d88-9f64-2be64ee3c98b",
   "metadata": {},
   "outputs": [
    {
     "data": {
      "text/plain": [
       "6"
      ]
     },
     "execution_count": 20,
     "metadata": {},
     "output_type": "execute_result"
    }
   ],
   "source": [
    "df.count()"
   ]
  },
  {
   "cell_type": "markdown",
   "id": "e7c71103-198b-4b56-b4ab-dad20679c0bf",
   "metadata": {
    "jp-MarkdownHeadingCollapsed": true,
    "tags": []
   },
   "source": [
    "#### <center> describe() : </center>"
   ]
  },
  {
   "cell_type": "code",
   "execution_count": 21,
   "id": "0b34d832-5aea-42f1-b217-7a8b8a7572de",
   "metadata": {},
   "outputs": [
    {
     "name": "stdout",
     "output_type": "stream",
     "text": [
      "+-------+-----+------+\n",
      "|summary|state|gender|\n",
      "+-------+-----+------+\n",
      "|  count|    6|     6|\n",
      "|   mean| null|  null|\n",
      "| stddev| null|  null|\n",
      "|    min|   NY|     F|\n",
      "|    max|   OH|     M|\n",
      "+-------+-----+------+\n",
      "\n"
     ]
    }
   ],
   "source": [
    "df.describe().show()"
   ]
  },
  {
   "cell_type": "markdown",
   "id": "685b0b1f-13ca-4195-a02d-15db9e41cf17",
   "metadata": {
    "jp-MarkdownHeadingCollapsed": true,
    "tags": []
   },
   "source": [
    "#### <center> toPandas() : </center>"
   ]
  },
  {
   "cell_type": "code",
   "execution_count": 22,
   "id": "308c82b2-f4c8-4523-a03a-9ce2253d8ca6",
   "metadata": {},
   "outputs": [
    {
     "name": "stdout",
     "output_type": "stream",
     "text": [
      "Before applying toPandas() method \t <class 'pyspark.sql.dataframe.DataFrame'>\n",
      "After applying toPandas() method \t <class 'pandas.core.frame.DataFrame'>\n"
     ]
    }
   ],
   "source": [
    "print('Before applying toPandas() method \\t',type(df))\n",
    "    \n",
    "print('After applying toPandas() method \\t',type(df.toPandas()))"
   ]
  },
  {
   "cell_type": "markdown",
   "id": "909c3dd7-e700-49c6-8b60-462e8fb46dfd",
   "metadata": {
    "jp-MarkdownHeadingCollapsed": true,
    "tags": []
   },
   "source": [
    "#### <center> withColumn() : </center>"
   ]
  },
  {
   "cell_type": "code",
   "execution_count": 23,
   "id": "48b975e5-e6b6-4610-a0c9-41c060530015",
   "metadata": {},
   "outputs": [
    {
     "name": "stdout",
     "output_type": "stream",
     "text": [
      "+--------------------+-----+------+\n",
      "|                name|state|gender|\n",
      "+--------------------+-----+------+\n",
      "|{James, null, Smith}|   OH|     M|\n",
      "|      {Anna, Rose, }|   NY|     F|\n",
      "| {Julia, , Williams}|   OH|     F|\n",
      "|{Maria, Anne, Jones}|   NY|     M|\n",
      "|  {Jen, Mary, Brown}|   NY|     M|\n",
      "|{Mike, Mary, Will...|   OH|     M|\n",
      "+--------------------+-----+------+\n",
      "\n"
     ]
    }
   ],
   "source": [
    "df.show()"
   ]
  },
  {
   "cell_type": "code",
   "execution_count": 24,
   "id": "5724174b-a3af-41cc-b0de-e6d740673212",
   "metadata": {},
   "outputs": [
    {
     "name": "stdout",
     "output_type": "stream",
     "text": [
      "+--------------------+-----+------+------+\n",
      "|                name|state|gender|newCol|\n",
      "+--------------------+-----+------+------+\n",
      "|{James, null, Smith}|   OH|     M|     2|\n",
      "|      {Anna, Rose, }|   NY|     F|     2|\n",
      "| {Julia, , Williams}|   OH|     F|     2|\n",
      "|{Maria, Anne, Jones}|   NY|     M|     2|\n",
      "|  {Jen, Mary, Brown}|   NY|     M|     2|\n",
      "|{Mike, Mary, Will...|   OH|     M|     2|\n",
      "+--------------------+-----+------+------+\n",
      "\n"
     ]
    }
   ],
   "source": [
    "import pyspark.sql.functions as F # import functions to length formula\n",
    "\n",
    "df=df.withColumn('newCol',F.length(df.state))\n",
    "\n",
    "df.show()"
   ]
  },
  {
   "cell_type": "markdown",
   "id": "e78b5d45-825e-4c17-be35-0dd4c50fab58",
   "metadata": {
    "jp-MarkdownHeadingCollapsed": true,
    "tags": []
   },
   "source": [
    "#### <center> filter() : </center>"
   ]
  },
  {
   "cell_type": "code",
   "execution_count": 25,
   "id": "864836f7-2a43-4273-a0e1-7938b8ea282a",
   "metadata": {},
   "outputs": [
    {
     "name": "stdout",
     "output_type": "stream",
     "text": [
      "+--------------------+-----+------+------+\n",
      "|                name|state|gender|newCol|\n",
      "+--------------------+-----+------+------+\n",
      "|      {Anna, Rose, }|   NY|     F|     2|\n",
      "|{Maria, Anne, Jones}|   NY|     M|     2|\n",
      "|  {Jen, Mary, Brown}|   NY|     M|     2|\n",
      "+--------------------+-----+------+------+\n",
      "\n"
     ]
    }
   ],
   "source": [
    "df.filter(df.state.isin ('TX','NY')).show()"
   ]
  },
  {
   "cell_type": "code",
   "execution_count": 26,
   "id": "47ae7d33-3f16-4682-a6a1-af34cf8cd59e",
   "metadata": {},
   "outputs": [
    {
     "name": "stdout",
     "output_type": "stream",
     "text": [
      "+--------------+-----+------+------+\n",
      "|          name|state|gender|newCol|\n",
      "+--------------+-----+------+------+\n",
      "|{Anna, Rose, }|   NY|     F|     2|\n",
      "+--------------+-----+------+------+\n",
      "\n"
     ]
    }
   ],
   "source": [
    "df.filter(df.state.isin ('TX','NY') & df.gender.isin('f','F')).show()"
   ]
  },
  {
   "cell_type": "markdown",
   "id": "f010b5c1-77f9-4525-8a91-9e0d3c92724a",
   "metadata": {
    "jp-MarkdownHeadingCollapsed": true,
    "tags": []
   },
   "source": [
    "#### <center> where() : </center>"
   ]
  },
  {
   "cell_type": "code",
   "execution_count": 27,
   "id": "7e232f45-01b4-426d-9069-ef9526e586e0",
   "metadata": {},
   "outputs": [
    {
     "name": "stdout",
     "output_type": "stream",
     "text": [
      "+--------------------+-----+------+------+\n",
      "|                name|state|gender|newCol|\n",
      "+--------------------+-----+------+------+\n",
      "|      {Anna, Rose, }|   NY|     F|     2|\n",
      "|{Maria, Anne, Jones}|   NY|     M|     2|\n",
      "|  {Jen, Mary, Brown}|   NY|     M|     2|\n",
      "+--------------------+-----+------+------+\n",
      "\n"
     ]
    }
   ],
   "source": [
    "df.where(df.state.isin ('TX','NY')).show()"
   ]
  },
  {
   "cell_type": "code",
   "execution_count": 28,
   "id": "48e8489e-ad45-4ed3-9e29-1a5b45a160ac",
   "metadata": {},
   "outputs": [
    {
     "name": "stdout",
     "output_type": "stream",
     "text": [
      "+--------------+-----+------+------+\n",
      "|          name|state|gender|newCol|\n",
      "+--------------+-----+------+------+\n",
      "|{Anna, Rose, }|   NY|     F|     2|\n",
      "+--------------+-----+------+------+\n",
      "\n"
     ]
    }
   ],
   "source": [
    "df.where(df.state.isin ('TX','NY') & df.gender.isin('f','F')).show()"
   ]
  },
  {
   "cell_type": "markdown",
   "id": "db13e82c-e008-41c1-8dea-f969767199c1",
   "metadata": {
    "jp-MarkdownHeadingCollapsed": true,
    "tags": []
   },
   "source": [
    "#### <center> Grouping Data: </center>"
   ]
  },
  {
   "cell_type": "code",
   "execution_count": 29,
   "id": "59b31a43-8edb-42b7-86c6-44c06ffafe36",
   "metadata": {},
   "outputs": [
    {
     "name": "stdout",
     "output_type": "stream",
     "text": [
      "+-----+------+---+---+\n",
      "|color| fruit| v1| v2|\n",
      "+-----+------+---+---+\n",
      "|  red|banana|  1| 10|\n",
      "| blue|banana|  2| 20|\n",
      "|  red|carrot|  3| 30|\n",
      "| blue| grape|  4| 40|\n",
      "|  red|carrot|  5| 50|\n",
      "|black|carrot|  6| 60|\n",
      "|  red|banana|  7| 70|\n",
      "|  red| grape|  8| 80|\n",
      "+-----+------+---+---+\n",
      "\n"
     ]
    }
   ],
   "source": [
    "df = spark.createDataFrame([\n",
    "    ['red', 'banana', 1, 10], ['blue', 'banana', 2, 20], ['red', 'carrot', 3, 30],\n",
    "    ['blue', 'grape', 4, 40], ['red', 'carrot', 5, 50], ['black', 'carrot', 6, 60],\n",
    "    ['red', 'banana', 7, 70], ['red', 'grape', 8, 80]], \n",
    "    schema=['color', 'fruit', 'v1', 'v2'])\n",
    "df.show()"
   ]
  },
  {
   "cell_type": "code",
   "execution_count": 30,
   "id": "a48eabab-f542-4e77-813f-05f244d8346f",
   "metadata": {},
   "outputs": [
    {
     "name": "stdout",
     "output_type": "stream",
     "text": [
      "+-----+-------+-------+\n",
      "|color|avg(v1)|avg(v2)|\n",
      "+-----+-------+-------+\n",
      "|  red|    4.8|   48.0|\n",
      "|black|    6.0|   60.0|\n",
      "| blue|    3.0|   30.0|\n",
      "+-----+-------+-------+\n",
      "\n"
     ]
    }
   ],
   "source": [
    "df.groupby('color').avg().show()"
   ]
  },
  {
   "cell_type": "code",
   "execution_count": 31,
   "id": "7fdc3f87-fdd3-4249-b69e-e0e2ea507957",
   "metadata": {},
   "outputs": [
    {
     "name": "stdout",
     "output_type": "stream",
     "text": [
      "+-----+------+---+---+\n",
      "|color| fruit| v1| v2|\n",
      "+-----+------+---+---+\n",
      "|black|carrot|  0| 60|\n",
      "| blue|banana| -1| 20|\n",
      "| blue| grape|  1| 40|\n",
      "|  red|banana| -3| 10|\n",
      "|  red|carrot| -1| 30|\n",
      "|  red|carrot|  0| 50|\n",
      "|  red|banana|  2| 70|\n",
      "|  red| grape|  3| 80|\n",
      "+-----+------+---+---+\n",
      "\n"
     ]
    }
   ],
   "source": [
    "def plus_mean(pandas_df):\n",
    "    return pandas_df.assign(v1=pandas_df.v1 - pandas_df.v1.mean())\n",
    "\n",
    "\n",
    "import pyarrow\n",
    "\n",
    "df.groupby('color').applyInPandas(plus_mean,schema=df.schema).show()"
   ]
  },
  {
   "cell_type": "markdown",
   "id": "4c6e4404-eb33-40ba-ad1e-850bb2f65475",
   "metadata": {
    "jp-MarkdownHeadingCollapsed": true,
    "tags": []
   },
   "source": [
    "#### <center> cogroup() : </center>"
   ]
  },
  {
   "cell_type": "code",
   "execution_count": 32,
   "id": "0d236fc0-3149-44fd-a6dc-fa00ad40bb1b",
   "metadata": {},
   "outputs": [
    {
     "name": "stdout",
     "output_type": "stream",
     "text": [
      "+--------+---+---+\n",
      "|    time| id| v1|\n",
      "+--------+---+---+\n",
      "|20000101|  1|1.0|\n",
      "|20000101|  2|2.0|\n",
      "|20000102|  1|3.0|\n",
      "|20000102|  2|4.0|\n",
      "+--------+---+---+\n",
      "\n",
      "+--------+---+---+\n",
      "|    time| id| v2|\n",
      "+--------+---+---+\n",
      "|20000101|  1|  x|\n",
      "|20000101|  2|  y|\n",
      "+--------+---+---+\n",
      "\n"
     ]
    }
   ],
   "source": [
    "df1 = spark.createDataFrame(\n",
    "    [(20000101, 1, 1.0), (20000101, 2, 2.0), (20000102, 1, 3.0), (20000102, 2, 4.0)],\n",
    "    ('time', 'id', 'v1'))\n",
    "df1.show()\n",
    "\n",
    "df2 = spark.createDataFrame(\n",
    "    [(20000101, 1, 'x'), (20000101, 2, 'y')],\n",
    "    ('time', 'id', 'v2'))\n",
    "\n",
    "df2.show()"
   ]
  },
  {
   "cell_type": "code",
   "execution_count": 33,
   "id": "19cec50d-35e9-478b-8931-296ff2a20a62",
   "metadata": {
    "scrolled": true,
    "tags": []
   },
   "outputs": [
    {
     "name": "stdout",
     "output_type": "stream",
     "text": [
      "+--------+---+---+---+\n",
      "|    time| id| v1| v2|\n",
      "+--------+---+---+---+\n",
      "|20000101|  1|1.0|  x|\n",
      "|20000102|  1|3.0|  x|\n",
      "|20000101|  2|2.0|  y|\n",
      "|20000102|  2|4.0|  y|\n",
      "+--------+---+---+---+\n",
      "\n"
     ]
    }
   ],
   "source": [
    "import pandas as pd\n",
    "def asof_join(l, r):\n",
    "    return pd.merge_asof(l, r, on='time', by='id')\n",
    "\n",
    "df1.groupby('id').cogroup(df2.groupby('id')).applyInPandas(\n",
    "    asof_join, schema='time int, id int, v1 double, v2 string').show()"
   ]
  },
  {
   "cell_type": "markdown",
   "id": "588b031f-622f-486e-abc0-df56ed42670f",
   "metadata": {
    "jp-MarkdownHeadingCollapsed": true,
    "tags": []
   },
   "source": [
    "#### <center> createOrReplaceTempView to run SQL Queries:  </center>"
   ]
  },
  {
   "cell_type": "code",
   "execution_count": 34,
   "id": "5c53f8a3-6f77-4ad2-b7a6-573d8bd9affa",
   "metadata": {},
   "outputs": [
    {
     "name": "stdout",
     "output_type": "stream",
     "text": [
      "+-----+------+---+---+\n",
      "|color| fruit| v1| v2|\n",
      "+-----+------+---+---+\n",
      "|  red|banana|  1| 10|\n",
      "| blue|banana|  2| 20|\n",
      "|  red|carrot|  3| 30|\n",
      "| blue| grape|  4| 40|\n",
      "|  red|carrot|  5| 50|\n",
      "|black|carrot|  6| 60|\n",
      "|  red|banana|  7| 70|\n",
      "|  red| grape|  8| 80|\n",
      "+-----+------+---+---+\n",
      "\n"
     ]
    }
   ],
   "source": [
    "df.createOrReplaceTempView(\"people\")\n",
    "\n",
    "sqlDF = spark.sql(\"SELECT * FROM people\")\n",
    "sqlDF.show()"
   ]
  },
  {
   "cell_type": "code",
   "execution_count": 35,
   "id": "91c184ac-653e-44af-a7e5-24741ff3e072",
   "metadata": {},
   "outputs": [
    {
     "name": "stdout",
     "output_type": "stream",
     "text": [
      "+--------+---+---+\n",
      "|    time| id| v1|\n",
      "+--------+---+---+\n",
      "|20000101|  1|1.0|\n",
      "|20000101|  2|2.0|\n",
      "|20000102|  1|3.0|\n",
      "|20000102|  2|4.0|\n",
      "+--------+---+---+\n",
      "\n"
     ]
    }
   ],
   "source": [
    "df1.createOrReplaceTempView(\"people\")\n",
    "\n",
    "sqlDF = spark.sql(\"SELECT * FROM people\")\n",
    "sqlDF.show()"
   ]
  },
  {
   "cell_type": "markdown",
   "id": "4a0b3e46-eaf8-45d9-92fb-b2033479f4e5",
   "metadata": {
    "jp-MarkdownHeadingCollapsed": true,
    "tags": []
   },
   "source": [
    "#### <center> writing Data: </center>"
   ]
  },
  {
   "cell_type": "raw",
   "id": "f2cc8687-f7d7-4db6-828d-9a564b3fbaa4",
   "metadata": {
    "tags": []
   },
   "source": [
    "df.write.csv('foo.csv', header=True)\n",
    "spark.read.csv('foo.csv', header=True).show()"
   ]
  },
  {
   "cell_type": "raw",
   "id": "4be481ca-3e7a-4159-90ae-c5ecac6f676e",
   "metadata": {
    "tags": []
   },
   "source": [
    "df.write.parquet('bar.parquet')\n",
    "spark.read.parquet('bar.parquet').show()"
   ]
  },
  {
   "cell_type": "raw",
   "id": "1396e59c-9d70-43fc-a44a-7653ce9c6d0a",
   "metadata": {
    "tags": []
   },
   "source": [
    "df.write.orc('zoo.orc')\n",
    "spark.read.orc('zoo.orc').show()"
   ]
  },
  {
   "cell_type": "code",
   "execution_count": null,
   "id": "20c75576-eade-45f3-9c25-f6716681a03c",
   "metadata": {},
   "outputs": [],
   "source": []
  },
  {
   "cell_type": "markdown",
   "id": "95a12e54-57e1-484b-95a4-e8020038b970",
   "metadata": {},
   "source": [
    "# THE END"
   ]
  }
 ],
 "metadata": {
  "kernelspec": {
   "display_name": "Python 3 (ipykernel)",
   "language": "python",
   "name": "python3"
  },
  "language_info": {
   "codemirror_mode": {
    "name": "ipython",
    "version": 3
   },
   "file_extension": ".py",
   "mimetype": "text/x-python",
   "name": "python",
   "nbconvert_exporter": "python",
   "pygments_lexer": "ipython3",
   "version": "3.10.7"
  }
 },
 "nbformat": 4,
 "nbformat_minor": 5
}
